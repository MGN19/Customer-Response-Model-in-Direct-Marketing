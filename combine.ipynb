{
 "cells": [
  {
   "cell_type": "markdown",
   "id": "c9e48a86-edcb-4ca1-9515-b60f07c550bc",
   "metadata": {},
   "source": [
    "## Programming for Data Science"
   ]
  },
  {
   "cell_type": "markdown",
   "id": "f83719dc-538c-4014-86cc-7eb5abc56c8f",
   "metadata": {},
   "source": [
    "### Project 1\n",
    "**Group members:**\n",
    "* Ghita Rholi, 20221491@novaims.unl.pt\n",
    "* Mariana Ferreira, 20211637@novaims.unl.pt\n",
    "* Mariana Neto, 20211527@novaims.unl.pt"
   ]
  },
  {
   "cell_type": "markdown",
   "id": "b43b0987-fed5-4110-a1c8-efd17ac1fa3e",
   "metadata": {},
   "source": [
    "#### Step 6. Data combination\n"
   ]
  },
  {
   "cell_type": "markdown",
   "id": "95f175d1-c084-4db3-84e5-43eab25c58c2",
   "metadata": {},
   "source": [
    "<br>\n",
    "\n",
    "##### Importing the necessary libraries."
   ]
  },
  {
   "cell_type": "code",
   "execution_count": 1,
   "id": "b1519a62-7110-4490-b748-b76d81e63864",
   "metadata": {},
   "outputs": [],
   "source": [
    "# The library 'pandas' will allow us to create DataFrames\n",
    "import pandas as pd\n",
    "# 'os' enables the listing of the names of the content inside a specific folder\n",
    "import os"
   ]
  },
  {
   "cell_type": "markdown",
   "id": "a8fab159-cc16-44b1-a6b3-ae8d577f7157",
   "metadata": {},
   "source": [
    "<br>"
   ]
  },
  {
   "cell_type": "markdown",
   "id": "d0578e32-fbb4-4182-b643-150357ae3bb6",
   "metadata": {},
   "source": [
    "#### Getting to know the data"
   ]
  },
  {
   "cell_type": "markdown",
   "id": "367c13f3-c13e-4828-b595-94371632d706",
   "metadata": {},
   "source": [
    "\n",
    "\n",
    "We start by displaying the data in a more understandable manner. To accomplish this, a dataframe is created for each folder, being the column represented by the folder's name and its rows, the files' name. \n",
    "\n",
    "With this representation, it is easier to acknowledge the amount of folders and respective files available. It will also be possible to conclude about patterns in folders and files names, which will be useful."
   ]
  },
  {
   "cell_type": "code",
   "execution_count": 9,
   "id": "be1c6f0f-d28b-4477-8292-99dcb08d82b9",
   "metadata": {},
   "outputs": [
    {
     "ename": "NotADirectoryError",
     "evalue": "[Errno 20] Not a directory: '/Users/mariananeto/Desktop/NOVA IMS/2º - 1ST SEMESTER/Programming for Data Science/S-churn-visualize2-20221025.ipynb/'",
     "output_type": "error",
     "traceback": [
      "\u001b[0;31m---------------------------------------------------------------------------\u001b[0m",
      "\u001b[0;31mNotADirectoryError\u001b[0m                        Traceback (most recent call last)",
      "\u001b[0;32m<ipython-input-9-fe1e411944eb>\u001b[0m in \u001b[0;36m<module>\u001b[0;34m\u001b[0m\n\u001b[1;32m      8\u001b[0m \u001b[0;34m\u001b[0m\u001b[0m\n\u001b[1;32m      9\u001b[0m \u001b[0;31m# Each element of the following list corresponds to the files of a specific folder\u001b[0m\u001b[0;34m\u001b[0m\u001b[0;34m\u001b[0m\u001b[0;34m\u001b[0m\u001b[0m\n\u001b[0;32m---> 10\u001b[0;31m \u001b[0mfiles\u001b[0m \u001b[0;34m=\u001b[0m \u001b[0;34m[\u001b[0m\u001b[0;34m[\u001b[0m\u001b[0mfiles\u001b[0m \u001b[0;32mfor\u001b[0m \u001b[0mfiles\u001b[0m \u001b[0;32min\u001b[0m \u001b[0mos\u001b[0m\u001b[0;34m.\u001b[0m\u001b[0mlistdir\u001b[0m\u001b[0;34m(\u001b[0m\u001b[0mpath\u001b[0m\u001b[0;34m(\u001b[0m\u001b[0mfolder\u001b[0m\u001b[0;34m)\u001b[0m\u001b[0;34m)\u001b[0m\u001b[0;34m]\u001b[0m \u001b[0;32mfor\u001b[0m \u001b[0mfolder\u001b[0m \u001b[0;32min\u001b[0m \u001b[0mfolders\u001b[0m\u001b[0;34m]\u001b[0m\u001b[0;34m\u001b[0m\u001b[0;34m\u001b[0m\u001b[0m\n\u001b[0m\u001b[1;32m     11\u001b[0m \u001b[0;34m\u001b[0m\u001b[0m\n\u001b[1;32m     12\u001b[0m \u001b[0;31m# The following function generates the table of a folder and its files\u001b[0m\u001b[0;34m\u001b[0m\u001b[0;34m\u001b[0m\u001b[0;34m\u001b[0m\u001b[0m\n",
      "\u001b[0;32m<ipython-input-9-fe1e411944eb>\u001b[0m in \u001b[0;36m<listcomp>\u001b[0;34m(.0)\u001b[0m\n\u001b[1;32m      8\u001b[0m \u001b[0;34m\u001b[0m\u001b[0m\n\u001b[1;32m      9\u001b[0m \u001b[0;31m# Each element of the following list corresponds to the files of a specific folder\u001b[0m\u001b[0;34m\u001b[0m\u001b[0;34m\u001b[0m\u001b[0;34m\u001b[0m\u001b[0m\n\u001b[0;32m---> 10\u001b[0;31m \u001b[0mfiles\u001b[0m \u001b[0;34m=\u001b[0m \u001b[0;34m[\u001b[0m\u001b[0;34m[\u001b[0m\u001b[0mfiles\u001b[0m \u001b[0;32mfor\u001b[0m \u001b[0mfiles\u001b[0m \u001b[0;32min\u001b[0m \u001b[0mos\u001b[0m\u001b[0;34m.\u001b[0m\u001b[0mlistdir\u001b[0m\u001b[0;34m(\u001b[0m\u001b[0mpath\u001b[0m\u001b[0;34m(\u001b[0m\u001b[0mfolder\u001b[0m\u001b[0;34m)\u001b[0m\u001b[0;34m)\u001b[0m\u001b[0;34m]\u001b[0m \u001b[0;32mfor\u001b[0m \u001b[0mfolder\u001b[0m \u001b[0;32min\u001b[0m \u001b[0mfolders\u001b[0m\u001b[0;34m]\u001b[0m\u001b[0;34m\u001b[0m\u001b[0;34m\u001b[0m\u001b[0m\n\u001b[0m\u001b[1;32m     11\u001b[0m \u001b[0;34m\u001b[0m\u001b[0m\n\u001b[1;32m     12\u001b[0m \u001b[0;31m# The following function generates the table of a folder and its files\u001b[0m\u001b[0;34m\u001b[0m\u001b[0;34m\u001b[0m\u001b[0;34m\u001b[0m\u001b[0m\n",
      "\u001b[0;31mNotADirectoryError\u001b[0m: [Errno 20] Not a directory: '/Users/mariananeto/Desktop/NOVA IMS/2º - 1ST SEMESTER/Programming for Data Science/S-churn-visualize2-20221025.ipynb/'"
     ]
    }
   ],
   "source": [
    "# We start by using the method .listdir() to get the names of the folders in which the files we want are located\n",
    "folders = os.listdir(\"/Users/mariananeto/Desktop/NOVA IMS/2º - 1ST SEMESTER/Programming for Data Science/\")\n",
    "\n",
    "# The following function gets the path to the files of each folder, returning the path\n",
    "def path(folder):\n",
    "    path = f\"/Users/mariananeto/Desktop/NOVA IMS/2º - 1ST SEMESTER/Programming for Data Science/{folder}/\"\n",
    "    return path\n",
    "\n",
    "# Each element of the following list corresponds to the files of a specific folder\n",
    "files = [[files for files in os.listdir(path(folder))] for folder in folders]\n",
    "\n",
    "# The following function generates the table of a folder and its files\n",
    "def folder_table(folder, files):\n",
    "    # An empty dictionary is created so we can build a dataframe containing the name of each folder and the corresponding files\n",
    "    data = {} \n",
    "    # It is associated the folder names to its corresponding files\n",
    "    data[folder] = files\n",
    "    # The dictionary is converted into a dataframe\n",
    "    table = pd.DataFrame.from_dict(data)\n",
    "    # The dataframe (the data in a table format) is returned\n",
    "    return table\n",
    "\n",
    "# For each folder, a dataframe with the name of its files is created (using the function above, folder_table())     \n",
    "for folder_index in range(len(folders)):\n",
    "    for files_index in range(len(files)):\n",
    "        if folder_index == files_index:\n",
    "            display(folder_table(folders[folder_index], files[files_index]))"
   ]
  },
  {
   "cell_type": "markdown",
   "id": "fcf1f4af-7151-4655-baae-dde3e7577d5a",
   "metadata": {},
   "source": [
    "\n",
    "\n",
    "From the tables above, it is possible to draw the following conclusions about the file names:\n",
    "* They start with \"response_\";\n",
    "* Between two underscores is the name of the folder in which the file is located;\n",
    "* After the last underscore, there is a number between 1 and the number of files in the respective folder;\n",
    "* All files contained in a specific folder, are of the same type, i.e., following the number mentioned they all have the same text, for example, \"txt\".\n"
   ]
  },
  {
   "cell_type": "markdown",
   "id": "619dfced-87bd-40e7-b9c7-941bfd43dca8",
   "metadata": {},
   "source": [
    "<br>\n",
    "<br>"
   ]
  },
  {
   "cell_type": "markdown",
   "id": "7ec4a3db-16d6-4bec-b087-291aa3dd9991",
   "metadata": {},
   "source": [
    "#### Combination of the files displayed above"
   ]
  },
  {
   "cell_type": "markdown",
   "id": "818acdad-e787-4ab0-9306-9f9e5a5545ff",
   "metadata": {},
   "source": [
    "In order to combine all the files mentioned, a few steps are taken. \n",
    "\n",
    "Firstly, it is created a dictionary containing essential information about each folder, that are:\n",
    "* The name of each column;\n",
    "* The extension of the files it contains;\n",
    "* The separation of each column in each file, if needed. For example, with a comma (\",\") or tab (\"\\t\");\n",
    "* The first and last number that describes its files (start and end ID of the files)."
   ]
  },
  {
   "cell_type": "code",
   "execution_count": null,
   "id": "51ddd48b-b849-4329-8d54-c2f629c4cd27",
   "metadata": {},
   "outputs": [],
   "source": [
    "call = {\"cost\": {\"columns\" : [\"ID\",\"CostContact\",\"Revenue\"],\n",
    "                              \"extension\" : \".csv\", \"sep\" : \",\",\n",
    "                              \"id_start\" : 1, \"id_end\" : 1},\n",
    "        \"demo\": {\"columns\" : [\"ID\", \"BirthYear\", \"Education\", \"MaritalStatus\", \"NKids\", \"NTeens\", \"Income\"],\n",
    "                        \"extension\": \".xlsx\",\n",
    "                        \"id_start\" : 1, \"id_end\" :3},\n",
    "        \"mnt\": {\"columns\" : ['ID', 'MntFruits', 'MntWines', 'MntMeatProducts', 'MntFishProducts', 'MntSweetProducts', 'MntGoldProds'],\n",
    "                        \"extension\": \".txt\", \n",
    "                        \"sep\" : \",\",\n",
    "                        \"id_start\" : 1, \"id_end\" :12},\n",
    "       \"other\": {\"columns\" : [\"ID\", \"CustomerFrom\",\"Complain\"],\n",
    "                        \"extension\": \".txt\", \n",
    "                        \"sep\" : \",\",\n",
    "                        \"id_start\" : 1, \"id_end\" :5},\n",
    "       \"purchases\": {\"columns\" : [\"ID\", \"Recency\", \"NDealsPurchases\", \"NWebPurchases\", \"NCatalogPurchases\", \"NStorePurchases\", \"NWebVisitsMonth\"],\n",
    "                        \"extension\": \".csv\", \n",
    "                        \"sep\" : \",\",\n",
    "                        \"id_start\" : 1, \"id_end\" :5},\n",
    "       \"response\": {\"columns\" : [\"ID\",\"Response1\", \"Response2\", \"Response3\", \"Response4\", \"Response5\", \"Response\"],\n",
    "                        \"extension\": \".xlsx\",\n",
    "                        \"id_start\" : 1, \"id_end\" :23}}"
   ]
  },
  {
   "cell_type": "markdown",
   "id": "3b7944d3-89cd-4f02-b277-0f1495c73968",
   "metadata": {},
   "source": [
    "<br>\n",
    "\n",
    "The following code enables us to import and combine the data from the different files."
   ]
  },
  {
   "cell_type": "code",
   "execution_count": null,
   "id": "d3289966-49aa-455f-ad6d-89e6cebd9a32",
   "metadata": {},
   "outputs": [],
   "source": [
    "# Creating an empty list where the datasets from different folders are stored to be combined\n",
    "datasets = []\n",
    "# Naming nomenclature\n",
    "name = \"response_{}_{}{}\"\n",
    "\n",
    "# The name of the folders and its information is used to access its files\n",
    "for call_key, call_val in call.items():\n",
    "    # A second list is created to store the files of each folder and combine them\n",
    "    datasets_to_combine = []\n",
    "    # Iterating through the files of a specific folder, using the information available and the nomenclature\n",
    "    for i in range(call_val[\"id_start\"], call_val[\"id_end\"]+ 1, 1):\n",
    "        # The condition separates files duo to their extension\n",
    "        # Thus, it is known which read_ method to use : .read_excel() or read_csv()\n",
    "        if call_val[\"extension\"] == \".xlsx\":\n",
    "            # Storing the data from all the files of a specific folder in the list 'datasets_to_combine'\n",
    "            datasets_to_combine.append(pd.read_excel(path(call_key) + \n",
    "                                                   name.format(call_key, i, call_val[\"extension\"]), \n",
    "                                                   usecols = call_val[\"columns\"], index_col = \"ID\"))\n",
    "        else:\n",
    "            # Storing the data from all the files of a specific folder in the list 'datasets_to_combine'\n",
    "            datasets_to_combine.append(pd.read_csv(path(call_key) + \n",
    "                                                 name.format(call_key, i, call_val[\"extension\"]),\n",
    "                                                 sep = call_val[\"sep\"], usecols = call_val[\"columns\"], index_col = \"ID\"))\n",
    "    # Joining the data from all the files of a specific folder and storing the resulting dataset in the list 'datasets'\n",
    "    # axis = 0, is used to specify that we are adding rows and not columns\n",
    "    datasets.append(pd.concat(datasets_to_combine, axis = 0))\n",
    "\n",
    "\n",
    "# Combining all the datasets\n",
    "# axis = 1, is used to specify that we are adding columns and not rows  \n",
    "datasets_combined = pd.concat(datasets, axis = 1)\n",
    "datasets_combined"
   ]
  },
  {
   "cell_type": "markdown",
   "id": "442cd9f4-c2a1-4e60-b9a6-d4798de16e7e",
   "metadata": {},
   "source": [
    "<br>"
   ]
  },
  {
   "cell_type": "markdown",
   "id": "46e425b9-671d-45a0-b66e-78e043244289",
   "metadata": {},
   "source": [
    "### Exporting the dataframe"
   ]
  },
  {
   "cell_type": "markdown",
   "id": "d0e20029-613f-4240-a396-cc5bc0e5694b",
   "metadata": {},
   "source": [
    "In order to use the dataset we created in different notebooks, it is necessary to export it. The dataset was exported in an excel format with the name \"datasets_combined.xlsx\". "
   ]
  },
  {
   "cell_type": "code",
   "execution_count": null,
   "id": "8d9b56c1-a87e-4ef8-b840-fcc19d1cd10b",
   "metadata": {},
   "outputs": [],
   "source": [
    "datasets_combined.to_excel(\"/Users/mariananeto/Desktop/NOVA IMS/2º - 1ST SEMESTER/Programming for Data Science/\" + \"datasets_combined.xlsx\")"
   ]
  }
 ],
 "metadata": {
  "kernelspec": {
   "display_name": "Python 3",
   "language": "python",
   "name": "python3"
  },
  "language_info": {
   "codemirror_mode": {
    "name": "ipython",
    "version": 3
   },
   "file_extension": ".py",
   "mimetype": "text/x-python",
   "name": "python",
   "nbconvert_exporter": "python",
   "pygments_lexer": "ipython3",
   "version": "3.8.8"
  }
 },
 "nbformat": 4,
 "nbformat_minor": 5
}
