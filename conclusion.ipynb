{
 "cells": [
  {
   "cell_type": "markdown",
   "id": "d4eba4b0-299c-4cd9-9efc-f969e8acdcf7",
   "metadata": {},
   "source": [
    "## Programming for Data Science"
   ]
  },
  {
   "cell_type": "markdown",
   "id": "526783db-a4ee-44ac-8b9a-e29f3fbbb6d0",
   "metadata": {},
   "source": [
    "### **Project 1**\n",
    "**Group members:**\n",
    "* Ghita Rholi, 20221491@novaims.unl.pt\n",
    "* Mariana Ferreira, 20211637@novaims.unl.pt\n",
    "* Mariana Neto, 20211527@novaims.unl.pt"
   ]
  },
  {
   "cell_type": "markdown",
   "id": "d21acb09-2c02-4c2e-847e-0f81e5e93dde",
   "metadata": {},
   "source": [
    "#### Step 6. Conclusion\n",
    "\n"
   ]
  },
  {
   "cell_type": "markdown",
   "id": "17b8f02e-2261-4aab-a231-d595056f0ff7",
   "metadata": {},
   "source": []
  },
  {
   "cell_type": "code",
   "execution_count": null,
   "id": "328d72b3-5008-4200-a954-6da1fe381d81",
   "metadata": {},
   "outputs": [],
   "source": []
  }
 ],
 "metadata": {
  "kernelspec": {
   "display_name": "Python 3 (ipykernel)",
   "language": "python",
   "name": "python3"
  },
  "language_info": {
   "codemirror_mode": {
    "name": "ipython",
    "version": 3
   },
   "file_extension": ".py",
   "mimetype": "text/x-python",
   "name": "python",
   "nbconvert_exporter": "python",
   "pygments_lexer": "ipython3",
   "version": "3.9.13"
  }
 },
 "nbformat": 4,
 "nbformat_minor": 5
}
