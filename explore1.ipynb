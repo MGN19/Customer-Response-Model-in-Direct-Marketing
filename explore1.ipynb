{
 "cells": [
  {
   "cell_type": "markdown",
   "id": "b8cc783f-bea6-4322-a4c3-db8e5c89632e",
   "metadata": {},
   "source": [
    "## Programming for Data Science"
   ]
  },
  {
   "cell_type": "markdown",
   "id": "cdebc391-2d34-4610-8cb3-000d42409652",
   "metadata": {},
   "source": [
    "### **Project 1**\n",
    "**Group members:**\n",
    "* Ghita Rholi, 20221491@novaims.unl.pt\n",
    "* Mariana Ferreira, 20211637@novaims.unl.pt\n",
    "* Mariana Neto, 20211527@novaims.unl.pt"
   ]
  },
  {
   "cell_type": "markdown",
   "id": "60e91fc0-1a41-4862-9056-2df530a90a14",
   "metadata": {},
   "source": [
    "### Step 4. Feature discrimination\n",
    "\n",
    "Assessment of individual features’ discrimination. The expected result of this step is to:\n",
    "* Gain preliminary insights about the respondents\n",
    "* Select prominent and non-redundant features for the next step\n",
    "\n",
    "- **1.** Scaled mean deviation\n",
    "- **2.** Spearman vs Pearson\n",
    "    - **2.1** The six features with the highest correlation\n",
    "    - **2.2** Verifying the Redundancy existent\n",
    "- **3.** $\\chi ^2$ test for independence\n",
    "    - **3.1** Education\n",
    "    - **3.2** MaritalStatus\n",
    "    - **3.3** HasChild \n",
    "- **4.** Kernel density estimation\n",
    "    - **4.1** TotalMnt\n",
    "    - **4.2** HasChild\n",
    "    - **4.3** Mnt features\n",
    "    - **4.4** Previous Responses\n",
    "- **5.** Brief Overview of the discarded columns\n",
    "- **6.** Exporting the dataset"
   ]
  },
  {
   "cell_type": "markdown",
   "id": "301a93c1-20b6-4ee8-8cf6-4bbbfa87fe2f",
   "metadata": {},
   "source": [
    "<br>\n",
    "\n",
    "##### Importing the necessary libraries."
   ]
  },
  {
   "cell_type": "code",
   "execution_count": 1,
   "id": "b3c8dc66-fc74-48a6-8788-0e1ccd66454a",
   "metadata": {},
   "outputs": [],
   "source": [
    "import numpy as np\n",
    "\n",
    "import pandas as pd\n",
    "\n",
    "# This library will help to create a scatter plot in a matrix\n",
    "from pandas.plotting import scatter_matrix\n",
    "\n",
    "# VISUALIZATION\n",
    "# This will allow the visualization and creation of grapghs\n",
    "import matplotlib.pyplot as plt\n",
    "import seaborn as sns\n",
    "\n",
    "# Choose the color palette for seaborn\n",
    "sns.set_style(\"whitegrid\")\n",
    "my_palette = [\"grey\", \"red\"]\n",
    "my_palette = sns.color_palette(my_palette)\n",
    "\n",
    "# Imports spearmanr and pearsonr function from scipy library\n",
    "from scipy.stats import spearmanr, pearsonr\n",
    "\n",
    "# Imports chi2_contingency function from scipy library\n",
    "from scipy.stats import chi2_contingency\n",
    "\n",
    "import warnings\n",
    "warnings.filterwarnings('ignore')"
   ]
  },
  {
   "cell_type": "markdown",
   "id": "95ca889a-991f-4c4d-9713-84c1414d1c3d",
   "metadata": {},
   "source": [
    "<br>\n",
    "\n",
    "##### Importing the dataset"
   ]
  },
  {
   "cell_type": "code",
   "execution_count": 2,
   "id": "35994227-230c-476c-bb89-66037827ae79",
   "metadata": {},
   "outputs": [],
   "source": [
    "data = pd.read_excel(\"feature_extract.xlsx\", index_col = \"ID\")"
   ]
  },
  {
   "cell_type": "markdown",
   "id": "78295a41-4ec3-487d-a5ac-48fa11d0ecd4",
   "metadata": {},
   "source": [
    "<br>\n",
    "\n",
    "Applying the method ``.head()`` to be able to see the first five rows of the dataset (transposed)."
   ]
  },
  {
   "cell_type": "code",
   "execution_count": 3,
   "id": "02dd07d0-ff4f-4855-8cc8-4bd75699560b",
   "metadata": {},
   "outputs": [
    {
     "data": {
      "text/html": [
       "<div>\n",
       "<style scoped>\n",
       "    .dataframe tbody tr th:only-of-type {\n",
       "        vertical-align: middle;\n",
       "    }\n",
       "\n",
       "    .dataframe tbody tr th {\n",
       "        vertical-align: top;\n",
       "    }\n",
       "\n",
       "    .dataframe thead th {\n",
       "        text-align: right;\n",
       "    }\n",
       "</style>\n",
       "<table border=\"1\" class=\"dataframe\">\n",
       "  <thead>\n",
       "    <tr style=\"text-align: right;\">\n",
       "      <th>ID</th>\n",
       "      <th>5314</th>\n",
       "      <th>2493</th>\n",
       "      <th>4931</th>\n",
       "      <th>1100</th>\n",
       "      <th>7224</th>\n",
       "    </tr>\n",
       "  </thead>\n",
       "  <tbody>\n",
       "    <tr>\n",
       "      <th>Education</th>\n",
       "      <td>Graduation</td>\n",
       "      <td>Graduation</td>\n",
       "      <td>Graduation</td>\n",
       "      <td>Master</td>\n",
       "      <td>Graduation</td>\n",
       "    </tr>\n",
       "    <tr>\n",
       "      <th>Age</th>\n",
       "      <td>67</td>\n",
       "      <td>52</td>\n",
       "      <td>41</td>\n",
       "      <td>58</td>\n",
       "      <td>41</td>\n",
       "    </tr>\n",
       "    <tr>\n",
       "      <th>CustomerDays</th>\n",
       "      <td>1750</td>\n",
       "      <td>1613</td>\n",
       "      <td>1708</td>\n",
       "      <td>1379</td>\n",
       "      <td>1464</td>\n",
       "    </tr>\n",
       "    <tr>\n",
       "      <th>MaritalStatus</th>\n",
       "      <td>Single</td>\n",
       "      <td>Married</td>\n",
       "      <td>Single</td>\n",
       "      <td>Single</td>\n",
       "      <td>Married</td>\n",
       "    </tr>\n",
       "    <tr>\n",
       "      <th>NKids</th>\n",
       "      <td>0</td>\n",
       "      <td>0</td>\n",
       "      <td>0</td>\n",
       "      <td>1</td>\n",
       "      <td>0</td>\n",
       "    </tr>\n",
       "    <tr>\n",
       "      <th>NTeens</th>\n",
       "      <td>1</td>\n",
       "      <td>1</td>\n",
       "      <td>0</td>\n",
       "      <td>2</td>\n",
       "      <td>0</td>\n",
       "    </tr>\n",
       "    <tr>\n",
       "      <th>NChildren</th>\n",
       "      <td>1</td>\n",
       "      <td>1</td>\n",
       "      <td>0</td>\n",
       "      <td>3</td>\n",
       "      <td>0</td>\n",
       "    </tr>\n",
       "    <tr>\n",
       "      <th>HasChild</th>\n",
       "      <td>1</td>\n",
       "      <td>1</td>\n",
       "      <td>0</td>\n",
       "      <td>1</td>\n",
       "      <td>0</td>\n",
       "    </tr>\n",
       "    <tr>\n",
       "      <th>Income</th>\n",
       "      <td>40689.0</td>\n",
       "      <td>61286.0</td>\n",
       "      <td>157146.0</td>\n",
       "      <td>41275.0</td>\n",
       "      <td>31353.0</td>\n",
       "    </tr>\n",
       "    <tr>\n",
       "      <th>MntWines</th>\n",
       "      <td>270</td>\n",
       "      <td>356</td>\n",
       "      <td>1</td>\n",
       "      <td>24</td>\n",
       "      <td>10</td>\n",
       "    </tr>\n",
       "    <tr>\n",
       "      <th>PMntWines</th>\n",
       "      <td>78.26087</td>\n",
       "      <td>72.505092</td>\n",
       "      <td>0.057837</td>\n",
       "      <td>46.153846</td>\n",
       "      <td>41.666667</td>\n",
       "    </tr>\n",
       "    <tr>\n",
       "      <th>MntFruits</th>\n",
       "      <td>3</td>\n",
       "      <td>0</td>\n",
       "      <td>0</td>\n",
       "      <td>4</td>\n",
       "      <td>0</td>\n",
       "    </tr>\n",
       "    <tr>\n",
       "      <th>PMntFruits</th>\n",
       "      <td>0.869565</td>\n",
       "      <td>0.0</td>\n",
       "      <td>0.0</td>\n",
       "      <td>7.692308</td>\n",
       "      <td>0.0</td>\n",
       "    </tr>\n",
       "    <tr>\n",
       "      <th>MntMeatProducts</th>\n",
       "      <td>27</td>\n",
       "      <td>107</td>\n",
       "      <td>1725</td>\n",
       "      <td>22</td>\n",
       "      <td>10</td>\n",
       "    </tr>\n",
       "    <tr>\n",
       "      <th>PMntMeatProducts</th>\n",
       "      <td>7.826087</td>\n",
       "      <td>21.792261</td>\n",
       "      <td>99.768652</td>\n",
       "      <td>42.307692</td>\n",
       "      <td>41.666667</td>\n",
       "    </tr>\n",
       "    <tr>\n",
       "      <th>MntFishProducts</th>\n",
       "      <td>39</td>\n",
       "      <td>19</td>\n",
       "      <td>2</td>\n",
       "      <td>0</td>\n",
       "      <td>3</td>\n",
       "    </tr>\n",
       "    <tr>\n",
       "      <th>PMntFishProducts</th>\n",
       "      <td>11.304348</td>\n",
       "      <td>3.869654</td>\n",
       "      <td>0.115674</td>\n",
       "      <td>0.0</td>\n",
       "      <td>12.5</td>\n",
       "    </tr>\n",
       "    <tr>\n",
       "      <th>MntSweetProducts</th>\n",
       "      <td>6</td>\n",
       "      <td>9</td>\n",
       "      <td>1</td>\n",
       "      <td>2</td>\n",
       "      <td>1</td>\n",
       "    </tr>\n",
       "    <tr>\n",
       "      <th>PMntSweetProducts</th>\n",
       "      <td>1.73913</td>\n",
       "      <td>1.832994</td>\n",
       "      <td>0.057837</td>\n",
       "      <td>3.846154</td>\n",
       "      <td>4.166667</td>\n",
       "    </tr>\n",
       "    <tr>\n",
       "      <th>MntGoldProds</th>\n",
       "      <td>99</td>\n",
       "      <td>117</td>\n",
       "      <td>1</td>\n",
       "      <td>9</td>\n",
       "      <td>7</td>\n",
       "    </tr>\n",
       "    <tr>\n",
       "      <th>PMntGoldProds</th>\n",
       "      <td>28.695652</td>\n",
       "      <td>23.828921</td>\n",
       "      <td>0.057837</td>\n",
       "      <td>17.307692</td>\n",
       "      <td>29.166667</td>\n",
       "    </tr>\n",
       "    <tr>\n",
       "      <th>TotalMnt</th>\n",
       "      <td>345</td>\n",
       "      <td>491</td>\n",
       "      <td>1729</td>\n",
       "      <td>52</td>\n",
       "      <td>24</td>\n",
       "    </tr>\n",
       "    <tr>\n",
       "      <th>Complain</th>\n",
       "      <td>0</td>\n",
       "      <td>0</td>\n",
       "      <td>0</td>\n",
       "      <td>0</td>\n",
       "      <td>0</td>\n",
       "    </tr>\n",
       "    <tr>\n",
       "      <th>Recency</th>\n",
       "      <td>69</td>\n",
       "      <td>34</td>\n",
       "      <td>13</td>\n",
       "      <td>33</td>\n",
       "      <td>24</td>\n",
       "    </tr>\n",
       "    <tr>\n",
       "      <th>NDealsPurchases</th>\n",
       "      <td>7</td>\n",
       "      <td>2</td>\n",
       "      <td>0</td>\n",
       "      <td>4</td>\n",
       "      <td>2</td>\n",
       "    </tr>\n",
       "    <tr>\n",
       "      <th>NWebPurchases</th>\n",
       "      <td>7</td>\n",
       "      <td>7</td>\n",
       "      <td>0</td>\n",
       "      <td>3</td>\n",
       "      <td>1</td>\n",
       "    </tr>\n",
       "    <tr>\n",
       "      <th>PWebPurchases</th>\n",
       "      <td>53.846154</td>\n",
       "      <td>43.75</td>\n",
       "      <td>0.0</td>\n",
       "      <td>42.857143</td>\n",
       "      <td>25.0</td>\n",
       "    </tr>\n",
       "    <tr>\n",
       "      <th>NCatalogPurchases</th>\n",
       "      <td>1</td>\n",
       "      <td>1</td>\n",
       "      <td>28</td>\n",
       "      <td>1</td>\n",
       "      <td>1</td>\n",
       "    </tr>\n",
       "    <tr>\n",
       "      <th>PCatalogPurchases</th>\n",
       "      <td>7.692308</td>\n",
       "      <td>6.25</td>\n",
       "      <td>100.0</td>\n",
       "      <td>14.285714</td>\n",
       "      <td>25.0</td>\n",
       "    </tr>\n",
       "    <tr>\n",
       "      <th>NStorePurchases</th>\n",
       "      <td>5</td>\n",
       "      <td>8</td>\n",
       "      <td>0</td>\n",
       "      <td>3</td>\n",
       "      <td>2</td>\n",
       "    </tr>\n",
       "    <tr>\n",
       "      <th>PStorePurchases</th>\n",
       "      <td>38.461538</td>\n",
       "      <td>50.0</td>\n",
       "      <td>0.0</td>\n",
       "      <td>42.857143</td>\n",
       "      <td>50.0</td>\n",
       "    </tr>\n",
       "    <tr>\n",
       "      <th>TotalPurchases</th>\n",
       "      <td>13</td>\n",
       "      <td>16</td>\n",
       "      <td>28</td>\n",
       "      <td>7</td>\n",
       "      <td>4</td>\n",
       "    </tr>\n",
       "    <tr>\n",
       "      <th>NWebVisitsMonth</th>\n",
       "      <td>8</td>\n",
       "      <td>5</td>\n",
       "      <td>1</td>\n",
       "      <td>5</td>\n",
       "      <td>8</td>\n",
       "    </tr>\n",
       "    <tr>\n",
       "      <th>Response1</th>\n",
       "      <td>0</td>\n",
       "      <td>0</td>\n",
       "      <td>0</td>\n",
       "      <td>0</td>\n",
       "      <td>0</td>\n",
       "    </tr>\n",
       "    <tr>\n",
       "      <th>Response2</th>\n",
       "      <td>0</td>\n",
       "      <td>0</td>\n",
       "      <td>0</td>\n",
       "      <td>0</td>\n",
       "      <td>0</td>\n",
       "    </tr>\n",
       "    <tr>\n",
       "      <th>Response3</th>\n",
       "      <td>0</td>\n",
       "      <td>0</td>\n",
       "      <td>0</td>\n",
       "      <td>0</td>\n",
       "      <td>0</td>\n",
       "    </tr>\n",
       "    <tr>\n",
       "      <th>Response4</th>\n",
       "      <td>0</td>\n",
       "      <td>0</td>\n",
       "      <td>0</td>\n",
       "      <td>0</td>\n",
       "      <td>0</td>\n",
       "    </tr>\n",
       "    <tr>\n",
       "      <th>Response5</th>\n",
       "      <td>0</td>\n",
       "      <td>0</td>\n",
       "      <td>0</td>\n",
       "      <td>0</td>\n",
       "      <td>0</td>\n",
       "    </tr>\n",
       "    <tr>\n",
       "      <th>Response</th>\n",
       "      <td>0</td>\n",
       "      <td>0</td>\n",
       "      <td>0</td>\n",
       "      <td>0</td>\n",
       "      <td>0</td>\n",
       "    </tr>\n",
       "  </tbody>\n",
       "</table>\n",
       "</div>"
      ],
      "text/plain": [
       "ID                       5314        2493        4931       1100        7224\n",
       "Education          Graduation  Graduation  Graduation     Master  Graduation\n",
       "Age                        67          52          41         58          41\n",
       "CustomerDays             1750        1613        1708       1379        1464\n",
       "MaritalStatus          Single     Married      Single     Single     Married\n",
       "NKids                       0           0           0          1           0\n",
       "NTeens                      1           1           0          2           0\n",
       "NChildren                   1           1           0          3           0\n",
       "HasChild                    1           1           0          1           0\n",
       "Income                40689.0     61286.0    157146.0    41275.0     31353.0\n",
       "MntWines                  270         356           1         24          10\n",
       "PMntWines            78.26087   72.505092    0.057837  46.153846   41.666667\n",
       "MntFruits                   3           0           0          4           0\n",
       "PMntFruits           0.869565         0.0         0.0   7.692308         0.0\n",
       "MntMeatProducts            27         107        1725         22          10\n",
       "PMntMeatProducts     7.826087   21.792261   99.768652  42.307692   41.666667\n",
       "MntFishProducts            39          19           2          0           3\n",
       "PMntFishProducts    11.304348    3.869654    0.115674        0.0        12.5\n",
       "MntSweetProducts            6           9           1          2           1\n",
       "PMntSweetProducts     1.73913    1.832994    0.057837   3.846154    4.166667\n",
       "MntGoldProds               99         117           1          9           7\n",
       "PMntGoldProds       28.695652   23.828921    0.057837  17.307692   29.166667\n",
       "TotalMnt                  345         491        1729         52          24\n",
       "Complain                    0           0           0          0           0\n",
       "Recency                    69          34          13         33          24\n",
       "NDealsPurchases             7           2           0          4           2\n",
       "NWebPurchases               7           7           0          3           1\n",
       "PWebPurchases       53.846154       43.75         0.0  42.857143        25.0\n",
       "NCatalogPurchases           1           1          28          1           1\n",
       "PCatalogPurchases    7.692308        6.25       100.0  14.285714        25.0\n",
       "NStorePurchases             5           8           0          3           2\n",
       "PStorePurchases     38.461538        50.0         0.0  42.857143        50.0\n",
       "TotalPurchases             13          16          28          7           4\n",
       "NWebVisitsMonth             8           5           1          5           8\n",
       "Response1                   0           0           0          0           0\n",
       "Response2                   0           0           0          0           0\n",
       "Response3                   0           0           0          0           0\n",
       "Response4                   0           0           0          0           0\n",
       "Response5                   0           0           0          0           0\n",
       "Response                    0           0           0          0           0"
      ]
     },
     "execution_count": 3,
     "metadata": {},
     "output_type": "execute_result"
    }
   ],
   "source": [
    "data.head().T"
   ]
  },
  {
   "cell_type": "markdown",
   "id": "6b03c121-1009-44be-91e8-1490fa7d6241",
   "metadata": {},
   "source": [
    "<br>\n",
    "\n",
    "## Features' Worth"
   ]
  },
  {
   "cell_type": "markdown",
   "id": "93c24465-221f-4628-bc28-73546a7dc5b1",
   "metadata": {},
   "source": [
    "In this section, we discuss other numerical approaches, such as scaled mean deviation and $\\chi ^2$ test for independence, to quantifying the worth of features in terms of discrimination ability."
   ]
  },
  {
   "cell_type": "markdown",
   "id": "8ee5b5ea-5c66-4e8d-aed9-e9dc816d4ac5",
   "metadata": {},
   "source": [
    "### **1.** Scaled mean deviation"
   ]
  },
  {
   "cell_type": "markdown",
   "id": "f3e4157a-1bea-40ee-8a56-af991065bf7f",
   "metadata": {},
   "source": [
    "This approach allows to compare the mean of a numerical feature in order of the mean of its groups. Considering the feature y (Target) we can compute the scaled mean deviation of a feature, by:\n",
    "\n",
    "$$\\sum_{j=0}^{c} \n",
    "|SMD_{x, y_{i=j}}| = \\sum_{j=0}^{c} |\\frac{\\overline{x}_{y_{i=j}} - \\overline{x}}{\\overline{x}}|,$$ \n",
    "\n",
    "where $j$ enumerates categories of feature $y$.\n"
   ]
  },
  {
   "cell_type": "markdown",
   "id": "32482b54-d915-4ad2-aec9-bb057adf24ce",
   "metadata": {},
   "source": [
    "<br>"
   ]
  },
  {
   "cell_type": "markdown",
   "id": "a418b0f8-0c95-42ba-aa3d-dcd72680a571",
   "metadata": {},
   "source": [
    "The following cell stores the numerical columns' names of the dataset in 'numerical_columns'. This will be used to calculate the scaled mean deviation. "
   ]
  },
  {
   "cell_type": "code",
   "execution_count": 4,
   "id": "9542584b-c423-47c8-9cd9-e4e16b8b736a",
   "metadata": {
    "tags": []
   },
   "outputs": [
    {
     "data": {
      "text/plain": [
       "Index(['Age', 'CustomerDays', 'NKids', 'NTeens', 'NChildren', 'HasChild',\n",
       "       'Income', 'MntWines', 'PMntWines', 'MntFruits', 'PMntFruits',\n",
       "       'MntMeatProducts', 'PMntMeatProducts', 'MntFishProducts',\n",
       "       'PMntFishProducts', 'MntSweetProducts', 'PMntSweetProducts',\n",
       "       'MntGoldProds', 'PMntGoldProds', 'TotalMnt', 'Complain',\n",
       "       'NDealsPurchases', 'NWebPurchases', 'PWebPurchases',\n",
       "       'NCatalogPurchases', 'PCatalogPurchases', 'NStorePurchases',\n",
       "       'PStorePurchases', 'TotalPurchases', 'NWebVisitsMonth', 'Response1',\n",
       "       'Response2', 'Response3', 'Response4', 'Response5', 'Response'],\n",
       "      dtype='object')"
      ]
     },
     "execution_count": 4,
     "metadata": {},
     "output_type": "execute_result"
    }
   ],
   "source": [
    "numerical_columns = data.select_dtypes(include = \"number\").columns\n",
    "numerical_columns"
   ]
  },
  {
   "cell_type": "markdown",
   "id": "aed83659-906d-48c4-a7ff-edb7216afb44",
   "metadata": {},
   "source": [
    "Aftwerwards, the array 'numerical_columns' is converted into a list and the element 'Response' is removed. The 'Response' is eliminated from the list so that we can use it as the target variable in the calculation of the scaled mean deviation."
   ]
  },
  {
   "cell_type": "code",
   "execution_count": 5,
   "id": "1d8bb6a8-d5ca-4532-b160-770526ca4be4",
   "metadata": {},
   "outputs": [
    {
     "name": "stdout",
     "output_type": "stream",
     "text": [
      "['Age', 'CustomerDays', 'NKids', 'NTeens', 'NChildren', 'HasChild', 'Income', 'MntWines', 'PMntWines', 'MntFruits', 'PMntFruits', 'MntMeatProducts', 'PMntMeatProducts', 'MntFishProducts', 'PMntFishProducts', 'MntSweetProducts', 'PMntSweetProducts', 'MntGoldProds', 'PMntGoldProds', 'TotalMnt', 'Complain', 'NDealsPurchases', 'NWebPurchases', 'PWebPurchases', 'NCatalogPurchases', 'PCatalogPurchases', 'NStorePurchases', 'PStorePurchases', 'TotalPurchases', 'NWebVisitsMonth', 'Response1', 'Response2', 'Response3', 'Response4', 'Response5']\n"
     ]
    }
   ],
   "source": [
    "# Converting the array 'numerical_columns' into a list\n",
    "numerical_columns = list(numerical_columns)\n",
    "# Removing the element 'Response' from the list\n",
    "numerical_columns.remove('Response')\n",
    "# Displaying the list\n",
    "print(numerical_columns)"
   ]
  },
  {
   "cell_type": "markdown",
   "id": "be87ea70-1cae-4f0b-8619-aeb9446bb1e2",
   "metadata": {},
   "source": [
    "<br>"
   ]
  },
  {
   "cell_type": "markdown",
   "id": "8d66f297-78fa-479f-9fde-79fdbc23fa70",
   "metadata": {},
   "source": [
    "The following code calculates the worth of all the numerical features, so that we can reach a conclusion about their discriminating role in the model, that is, the impact that those features have on the target (the Response feature). "
   ]
  },
  {
   "cell_type": "code",
   "execution_count": 6,
   "id": "cb5bf10a-a820-4b3f-b3ee-a03fee79c9c5",
   "metadata": {},
   "outputs": [
    {
     "data": {
      "text/plain": [
       "Response2            4.503879\n",
       "Response5            3.182266\n",
       "Response1            3.057579\n",
       "Response3            2.429863\n",
       "Response4            1.626648\n",
       "MntMeatProducts      0.911399\n",
       "TotalMnt             0.750294\n",
       "MntWines             0.738772\n",
       "NCatalogPurchases    0.666259\n",
       "PCatalogPurchases    0.572969\n",
       "MntFruits            0.552800\n",
       "MntGoldProds         0.521808\n",
       "MntSweetProducts     0.516123\n",
       "NTeens               0.464215\n",
       "MntFishProducts      0.428854\n",
       "NChildren            0.377819\n",
       "HasChild             0.370194\n",
       "NWebPurchases        0.288343\n",
       "NKids                0.279435\n",
       "TotalPurchases       0.262826\n",
       "PMntFishProducts     0.238994\n",
       "PStorePurchases      0.222608\n",
       "PMntMeatProducts     0.152025\n",
       "Income               0.151002\n",
       "PMntFruits           0.094883\n",
       "CustomerDays         0.065809\n",
       "NStorePurchases      0.059430\n",
       "PMntSweetProducts    0.059236\n",
       "PWebPurchases        0.054890\n",
       "Complain             0.049152\n",
       "PMntWines            0.027189\n",
       "Age                  0.016236\n",
       "NWebVisitsMonth      0.004769\n",
       "NDealsPurchases      0.000330\n",
       "PMntGoldProds        0.000000\n",
       "dtype: float64"
      ]
     },
     "execution_count": 6,
     "metadata": {},
     "output_type": "execute_result"
    }
   ],
   "source": [
    "# Selecting all numerical features of the dataset to discriminate among the target\n",
    "x, y = numerical_columns, \"Response\"\n",
    "\n",
    "# Computing the mean of x\n",
    "x_mean = data[x].mean()\n",
    "\n",
    "# Computing the mean of x by groups of y\n",
    "x_group_mean = data[x + [y]].groupby(y).agg({xi: \"mean\" for xi in x}) \n",
    "\n",
    "# Computing the absolute value of the difference\n",
    "x_group_mean_diff = ((x_group_mean - x_mean)/x_mean)\n",
    "\n",
    "# Computes the SMD\n",
    "xy_smd = x_group_mean_diff.abs().sum()\n",
    "\n",
    "# Displaying the results in descending order\n",
    "xy_smd.sort_values(ascending = False)"
   ]
  },
  {
   "cell_type": "markdown",
   "id": "d0b1f917-89eb-4d1f-a354-6bcc4afa15aa",
   "metadata": {},
   "source": [
    "<br>\n",
    "\n",
    "The features that have significantly high values in this measurement, and subsequently a somewhat high worth:\n",
    "* Response2;\n",
    "* Response5;\n",
    "* Response1;\n",
    "* Response3;\n",
    "* Response4;\n",
    "* MntMeatProducts;\n",
    "* TotalMnt:\n",
    "* MntWines;\n",
    "* NCatalogPurchases;"
   ]
  },
  {
   "cell_type": "markdown",
   "id": "956a8214-1994-41f3-b6ae-9b002709b398",
   "metadata": {},
   "source": [
    "<br>\n",
    "\n",
    "The values that are lower than 0.2 have a extremely low impact on the target feature, and therefore on the model. According to this logic there are 4 features considered as not essential, which are:\n",
    "* Age;\n",
    "* NWebVisitsMonth;\n",
    "* NDealsPurchases;\n",
    "* PMntGoldProds.\n",
    "\n",
    "According to this measurement, the listed features can be eliminated in order to improve the model performance. The removal of this features is benificial not only for the model, but also for the simplicity of the next steps, the respective columns will be removed in the cells bellow."
   ]
  },
  {
   "cell_type": "code",
   "execution_count": 7,
   "id": "59baede2-8bbe-4ba5-9958-29a817e332b8",
   "metadata": {},
   "outputs": [],
   "source": [
    "data.drop(['Age', 'NWebVisitsMonth', 'NDealsPurchases', 'PMntGoldProds'], axis =1, inplace = True)"
   ]
  },
  {
   "cell_type": "markdown",
   "id": "eb9d70db-d0f2-48a8-86df-ce1f52e1d053",
   "metadata": {},
   "source": [
    "<br>\n",
    "\n",
    "### 2. Spearman vs Pearson"
   ]
  },
  {
   "cell_type": "markdown",
   "id": "1234f718-fb28-433c-875f-757aa8918722",
   "metadata": {},
   "source": [
    "Pearson and Spearman's coefficients are both used to measure correlation between features, the main difference relies on what kind of analysis we want.\n",
    "\n",
    "The spearman's coefficient is used in the extract notebook since it is able to calculate linear and non-linear correlations, which allows a larger range of features to be used. In this stage we can use the values we got from the resulting correlation matrix and reach some more enriching conclusions about the features. "
   ]
  },
  {
   "cell_type": "markdown",
   "id": "f33db61b-bd14-4ade-bc42-6bfe8a64fbe1",
   "metadata": {},
   "source": [
    "Pearson correlation evaluates the linear relationship between two continuous variables, given the following formula:\n",
    "\n",
    "$$\\rho_{X, Y} = \\frac{cov(X,Y)}{\\sigma_X \\sigma_Y}.$$\n",
    "\n",
    "\n",
    "\n",
    "Basically is the division between the covariance of two variables by the product of their standard deviations.\n",
    "\n",
    "<br>\n",
    "\n",
    "Whereas Spearman correlation is used to assess the monotony of a relationship, based on the ranked values.\n",
    "\n",
    "$$\\rho_{rg_X, rg_Y} = \\frac{cov(rg_X,rg_Y)}{\\sigma_{rg_X} \\sigma_{rg_Y}},$$ \n",
    "\n",
    "\n",
    "where $rg_X$ and $rg_Y$ are the ranks of the values."
   ]
  },
  {
   "cell_type": "markdown",
   "id": "e47219bc-1e2d-4b2a-8c48-57117f2b33ae",
   "metadata": {},
   "source": [
    "<br>"
   ]
  },
  {
   "cell_type": "markdown",
   "id": "86b87373-08ed-40b9-8e16-bad4dd45ef82",
   "metadata": {},
   "source": [
    "As previously stated, the Spearman's correlation was already computed in the feature extraction stage. In this part we will rely on the values reached with the spearman's coefficient in the previous step (feature extraction). It will be displayed the correlation between features that have the highest correlation among each other and compare them to the target (Response) as well. Thereby, we can recognize which of the features with a high correlation among themselves have the highest correlation with the target.\n",
    "\n",
    "To accomplish this, the function ``display_correlations`` is created. With this function the columns for which we want to visualize the correlation are used and the correlation matrix between them and the target feature is displayed."
   ]
  },
  {
   "cell_type": "code",
   "execution_count": 8,
   "id": "125bd0d6-93c4-496c-87a0-d24d5b528599",
   "metadata": {},
   "outputs": [],
   "source": [
    "def display_correlation(columns):\n",
    "    display('Spearman:', data[columns].corr(method=\"spearman\").style.background_gradient(cmap='coolwarm'),\n",
    "            '---------',\n",
    "            'Pearson:', data[columns].corr(method=\"pearson\").style.background_gradient(cmap='coolwarm'))"
   ]
  },
  {
   "cell_type": "markdown",
   "id": "bc570251-f5c5-4d93-bf22-dbbc50644456",
   "metadata": {},
   "source": [
    "<br>\n",
    "\n",
    "#### **2.1** The six features with the highest correlation\n",
    "\n",
    "In the Feature Extraction stage it was observed that there were six columns (TotalMnt, TotalPurchases, NCatalogPurchases, PCatalogPurchases, MntMeatProducts, MntWines) with an extremely high correlation (larger than 0.90) among each other. Those correlation values were the largest ones obtained. \n",
    "\n",
    "In order to avoid the redundancy that follows this type of correlations, we start by visualizing a matrix with the relationships among all the mentioned features and the target. This matrix is generated in the code bellow, using the function ``display_correlation()``."
   ]
  },
  {
   "cell_type": "code",
   "execution_count": 9,
   "id": "d4635964-2ce7-49c2-aa2a-bf9cbdeb4b82",
   "metadata": {},
   "outputs": [
    {
     "data": {
      "text/plain": [
       "'Spearman:'"
      ]
     },
     "metadata": {},
     "output_type": "display_data"
    },
    {
     "data": {
      "text/html": [
       "<style type=\"text/css\">\n",
       "#T_83b14_row0_col0, #T_83b14_row1_col1, #T_83b14_row2_col2, #T_83b14_row3_col3, #T_83b14_row4_col4, #T_83b14_row5_col5, #T_83b14_row6_col6 {\n",
       "  background-color: #b40426;\n",
       "  color: #f1f1f1;\n",
       "}\n",
       "#T_83b14_row0_col1 {\n",
       "  background-color: #d85646;\n",
       "  color: #f1f1f1;\n",
       "}\n",
       "#T_83b14_row0_col2, #T_83b14_row2_col0, #T_83b14_row2_col1 {\n",
       "  background-color: #e36c55;\n",
       "  color: #f1f1f1;\n",
       "}\n",
       "#T_83b14_row0_col3 {\n",
       "  background-color: #f2cbb7;\n",
       "  color: #000000;\n",
       "}\n",
       "#T_83b14_row0_col4 {\n",
       "  background-color: #cd423b;\n",
       "  color: #f1f1f1;\n",
       "}\n",
       "#T_83b14_row0_col5 {\n",
       "  background-color: #d0473d;\n",
       "  color: #f1f1f1;\n",
       "}\n",
       "#T_83b14_row0_col6 {\n",
       "  background-color: #516ddb;\n",
       "  color: #f1f1f1;\n",
       "}\n",
       "#T_83b14_row1_col0, #T_83b14_row3_col2 {\n",
       "  background-color: #da5a49;\n",
       "  color: #f1f1f1;\n",
       "}\n",
       "#T_83b14_row1_col2, #T_83b14_row1_col5, #T_83b14_row4_col1 {\n",
       "  background-color: #e67259;\n",
       "  color: #f1f1f1;\n",
       "}\n",
       "#T_83b14_row1_col3 {\n",
       "  background-color: #dfdbd9;\n",
       "  color: #000000;\n",
       "}\n",
       "#T_83b14_row1_col4 {\n",
       "  background-color: #e9785d;\n",
       "  color: #f1f1f1;\n",
       "}\n",
       "#T_83b14_row1_col6, #T_83b14_row6_col0, #T_83b14_row6_col1, #T_83b14_row6_col2, #T_83b14_row6_col3, #T_83b14_row6_col4, #T_83b14_row6_col5 {\n",
       "  background-color: #3b4cc0;\n",
       "  color: #f1f1f1;\n",
       "}\n",
       "#T_83b14_row2_col3 {\n",
       "  background-color: #dc5d4a;\n",
       "  color: #f1f1f1;\n",
       "}\n",
       "#T_83b14_row2_col4 {\n",
       "  background-color: #ec8165;\n",
       "  color: #f1f1f1;\n",
       "}\n",
       "#T_83b14_row2_col5, #T_83b14_row4_col5 {\n",
       "  background-color: #f18d6f;\n",
       "  color: #f1f1f1;\n",
       "}\n",
       "#T_83b14_row2_col6 {\n",
       "  background-color: #536edd;\n",
       "  color: #f1f1f1;\n",
       "}\n",
       "#T_83b14_row3_col0 {\n",
       "  background-color: #f3c8b2;\n",
       "  color: #000000;\n",
       "}\n",
       "#T_83b14_row3_col1 {\n",
       "  background-color: #ecd3c5;\n",
       "  color: #000000;\n",
       "}\n",
       "#T_83b14_row3_col4 {\n",
       "  background-color: #efcebd;\n",
       "  color: #000000;\n",
       "}\n",
       "#T_83b14_row3_col5 {\n",
       "  background-color: #e5d8d1;\n",
       "  color: #000000;\n",
       "}\n",
       "#T_83b14_row3_col6 {\n",
       "  background-color: #5a78e4;\n",
       "  color: #f1f1f1;\n",
       "}\n",
       "#T_83b14_row4_col0 {\n",
       "  background-color: #cf453c;\n",
       "  color: #f1f1f1;\n",
       "}\n",
       "#T_83b14_row4_col2 {\n",
       "  background-color: #ed8366;\n",
       "  color: #f1f1f1;\n",
       "}\n",
       "#T_83b14_row4_col3 {\n",
       "  background-color: #edd2c3;\n",
       "  color: #000000;\n",
       "}\n",
       "#T_83b14_row4_col6 {\n",
       "  background-color: #4f69d9;\n",
       "  color: #f1f1f1;\n",
       "}\n",
       "#T_83b14_row5_col0 {\n",
       "  background-color: #d1493f;\n",
       "  color: #f1f1f1;\n",
       "}\n",
       "#T_83b14_row5_col1 {\n",
       "  background-color: #e46e56;\n",
       "  color: #f1f1f1;\n",
       "}\n",
       "#T_83b14_row5_col2, #T_83b14_row5_col4 {\n",
       "  background-color: #f29274;\n",
       "  color: #f1f1f1;\n",
       "}\n",
       "#T_83b14_row5_col3 {\n",
       "  background-color: #dcdddd;\n",
       "  color: #000000;\n",
       "}\n",
       "#T_83b14_row5_col6 {\n",
       "  background-color: #445acc;\n",
       "  color: #f1f1f1;\n",
       "}\n",
       "</style>\n",
       "<table id=\"T_83b14\">\n",
       "  <thead>\n",
       "    <tr>\n",
       "      <th class=\"blank level0\" >&nbsp;</th>\n",
       "      <th id=\"T_83b14_level0_col0\" class=\"col_heading level0 col0\" >TotalMnt</th>\n",
       "      <th id=\"T_83b14_level0_col1\" class=\"col_heading level0 col1\" >TotalPurchases</th>\n",
       "      <th id=\"T_83b14_level0_col2\" class=\"col_heading level0 col2\" >NCatalogPurchases</th>\n",
       "      <th id=\"T_83b14_level0_col3\" class=\"col_heading level0 col3\" >PCatalogPurchases</th>\n",
       "      <th id=\"T_83b14_level0_col4\" class=\"col_heading level0 col4\" >MntMeatProducts</th>\n",
       "      <th id=\"T_83b14_level0_col5\" class=\"col_heading level0 col5\" >MntWines</th>\n",
       "      <th id=\"T_83b14_level0_col6\" class=\"col_heading level0 col6\" >Response</th>\n",
       "    </tr>\n",
       "  </thead>\n",
       "  <tbody>\n",
       "    <tr>\n",
       "      <th id=\"T_83b14_level0_row0\" class=\"row_heading level0 row0\" >TotalMnt</th>\n",
       "      <td id=\"T_83b14_row0_col0\" class=\"data row0 col0\" >1.000000</td>\n",
       "      <td id=\"T_83b14_row0_col1\" class=\"data row0 col1\" >0.910064</td>\n",
       "      <td id=\"T_83b14_row0_col2\" class=\"data row0 col2\" >0.884669</td>\n",
       "      <td id=\"T_83b14_row0_col3\" class=\"data row0 col3\" >0.701144</td>\n",
       "      <td id=\"T_83b14_row0_col4\" class=\"data row0 col4\" >0.942492</td>\n",
       "      <td id=\"T_83b14_row0_col5\" class=\"data row0 col5\" >0.934322</td>\n",
       "      <td id=\"T_83b14_row0_col6\" class=\"data row0 col6\" >0.228446</td>\n",
       "    </tr>\n",
       "    <tr>\n",
       "      <th id=\"T_83b14_level0_row1\" class=\"row_heading level0 row1\" >TotalPurchases</th>\n",
       "      <td id=\"T_83b14_row1_col0\" class=\"data row1 col0\" >0.910064</td>\n",
       "      <td id=\"T_83b14_row1_col1\" class=\"data row1 col1\" >1.000000</td>\n",
       "      <td id=\"T_83b14_row1_col2\" class=\"data row1 col2\" >0.875974</td>\n",
       "      <td id=\"T_83b14_row1_col3\" class=\"data row1 col3\" >0.635276</td>\n",
       "      <td id=\"T_83b14_row1_col4\" class=\"data row1 col4\" >0.864135</td>\n",
       "      <td id=\"T_83b14_row1_col5\" class=\"data row1 col5\" >0.869805</td>\n",
       "      <td id=\"T_83b14_row1_col6\" class=\"data row1 col6\" >0.166272</td>\n",
       "    </tr>\n",
       "    <tr>\n",
       "      <th id=\"T_83b14_level0_row2\" class=\"row_heading level0 row2\" >NCatalogPurchases</th>\n",
       "      <td id=\"T_83b14_row2_col0\" class=\"data row2 col0\" >0.884669</td>\n",
       "      <td id=\"T_83b14_row2_col1\" class=\"data row2 col1\" >0.875974</td>\n",
       "      <td id=\"T_83b14_row2_col2\" class=\"data row2 col2\" >1.000000</td>\n",
       "      <td id=\"T_83b14_row2_col3\" class=\"data row2 col3\" >0.912137</td>\n",
       "      <td id=\"T_83b14_row2_col4\" class=\"data row2 col4\" >0.850073</td>\n",
       "      <td id=\"T_83b14_row2_col5\" class=\"data row2 col5\" >0.822583</td>\n",
       "      <td id=\"T_83b14_row2_col6\" class=\"data row2 col6\" >0.232909</td>\n",
       "    </tr>\n",
       "    <tr>\n",
       "      <th id=\"T_83b14_level0_row3\" class=\"row_heading level0 row3\" >PCatalogPurchases</th>\n",
       "      <td id=\"T_83b14_row3_col0\" class=\"data row3 col0\" >0.701144</td>\n",
       "      <td id=\"T_83b14_row3_col1\" class=\"data row3 col1\" >0.635276</td>\n",
       "      <td id=\"T_83b14_row3_col2\" class=\"data row3 col2\" >0.912137</td>\n",
       "      <td id=\"T_83b14_row3_col3\" class=\"data row3 col3\" >1.000000</td>\n",
       "      <td id=\"T_83b14_row3_col4\" class=\"data row3 col4\" >0.678018</td>\n",
       "      <td id=\"T_83b14_row3_col5\" class=\"data row3 col5\" >0.624157</td>\n",
       "      <td id=\"T_83b14_row3_col6\" class=\"data row3 col6\" >0.253072</td>\n",
       "    </tr>\n",
       "    <tr>\n",
       "      <th id=\"T_83b14_level0_row4\" class=\"row_heading level0 row4\" >MntMeatProducts</th>\n",
       "      <td id=\"T_83b14_row4_col0\" class=\"data row4 col0\" >0.942492</td>\n",
       "      <td id=\"T_83b14_row4_col1\" class=\"data row4 col1\" >0.864135</td>\n",
       "      <td id=\"T_83b14_row4_col2\" class=\"data row4 col2\" >0.850073</td>\n",
       "      <td id=\"T_83b14_row4_col3\" class=\"data row4 col3\" >0.678018</td>\n",
       "      <td id=\"T_83b14_row4_col4\" class=\"data row4 col4\" >1.000000</td>\n",
       "      <td id=\"T_83b14_row4_col5\" class=\"data row4 col5\" >0.820524</td>\n",
       "      <td id=\"T_83b14_row4_col6\" class=\"data row4 col6\" >0.223981</td>\n",
       "    </tr>\n",
       "    <tr>\n",
       "      <th id=\"T_83b14_level0_row5\" class=\"row_heading level0 row5\" >MntWines</th>\n",
       "      <td id=\"T_83b14_row5_col0\" class=\"data row5 col0\" >0.934322</td>\n",
       "      <td id=\"T_83b14_row5_col1\" class=\"data row5 col1\" >0.869805</td>\n",
       "      <td id=\"T_83b14_row5_col2\" class=\"data row5 col2\" >0.822583</td>\n",
       "      <td id=\"T_83b14_row5_col3\" class=\"data row5 col3\" >0.624157</td>\n",
       "      <td id=\"T_83b14_row5_col4\" class=\"data row5 col4\" >0.820524</td>\n",
       "      <td id=\"T_83b14_row5_col5\" class=\"data row5 col5\" >1.000000</td>\n",
       "      <td id=\"T_83b14_row5_col6\" class=\"data row5 col6\" >0.193612</td>\n",
       "    </tr>\n",
       "    <tr>\n",
       "      <th id=\"T_83b14_level0_row6\" class=\"row_heading level0 row6\" >Response</th>\n",
       "      <td id=\"T_83b14_row6_col0\" class=\"data row6 col0\" >0.228446</td>\n",
       "      <td id=\"T_83b14_row6_col1\" class=\"data row6 col1\" >0.166272</td>\n",
       "      <td id=\"T_83b14_row6_col2\" class=\"data row6 col2\" >0.232909</td>\n",
       "      <td id=\"T_83b14_row6_col3\" class=\"data row6 col3\" >0.253072</td>\n",
       "      <td id=\"T_83b14_row6_col4\" class=\"data row6 col4\" >0.223981</td>\n",
       "      <td id=\"T_83b14_row6_col5\" class=\"data row6 col5\" >0.193612</td>\n",
       "      <td id=\"T_83b14_row6_col6\" class=\"data row6 col6\" >1.000000</td>\n",
       "    </tr>\n",
       "  </tbody>\n",
       "</table>\n"
      ],
      "text/plain": [
       "<pandas.io.formats.style.Styler at 0x19c9857a820>"
      ]
     },
     "metadata": {},
     "output_type": "display_data"
    },
    {
     "data": {
      "text/plain": [
       "'---------'"
      ]
     },
     "metadata": {},
     "output_type": "display_data"
    },
    {
     "data": {
      "text/plain": [
       "'Pearson:'"
      ]
     },
     "metadata": {},
     "output_type": "display_data"
    },
    {
     "data": {
      "text/html": [
       "<style type=\"text/css\">\n",
       "#T_d01ae_row0_col0, #T_d01ae_row1_col1, #T_d01ae_row2_col2, #T_d01ae_row3_col3, #T_d01ae_row4_col4, #T_d01ae_row5_col5, #T_d01ae_row6_col6 {\n",
       "  background-color: #b40426;\n",
       "  color: #f1f1f1;\n",
       "}\n",
       "#T_d01ae_row0_col1 {\n",
       "  background-color: #f18f71;\n",
       "  color: #f1f1f1;\n",
       "}\n",
       "#T_d01ae_row0_col2 {\n",
       "  background-color: #f7aa8c;\n",
       "  color: #000000;\n",
       "}\n",
       "#T_d01ae_row0_col3 {\n",
       "  background-color: #e6d7cf;\n",
       "  color: #000000;\n",
       "}\n",
       "#T_d01ae_row0_col4 {\n",
       "  background-color: #ee8468;\n",
       "  color: #f1f1f1;\n",
       "}\n",
       "#T_d01ae_row0_col5 {\n",
       "  background-color: #e16751;\n",
       "  color: #f1f1f1;\n",
       "}\n",
       "#T_d01ae_row0_col6 {\n",
       "  background-color: #5e7de7;\n",
       "  color: #f1f1f1;\n",
       "}\n",
       "#T_d01ae_row1_col0, #T_d01ae_row2_col1 {\n",
       "  background-color: #f49a7b;\n",
       "  color: #000000;\n",
       "}\n",
       "#T_d01ae_row1_col2 {\n",
       "  background-color: #f5a081;\n",
       "  color: #000000;\n",
       "}\n",
       "#T_d01ae_row1_col3 {\n",
       "  background-color: #d4dbe6;\n",
       "  color: #000000;\n",
       "}\n",
       "#T_d01ae_row1_col4 {\n",
       "  background-color: #dedcdb;\n",
       "  color: #000000;\n",
       "}\n",
       "#T_d01ae_row1_col5 {\n",
       "  background-color: #f7b396;\n",
       "  color: #000000;\n",
       "}\n",
       "#T_d01ae_row1_col6, #T_d01ae_row6_col0, #T_d01ae_row6_col1, #T_d01ae_row6_col2, #T_d01ae_row6_col3, #T_d01ae_row6_col4, #T_d01ae_row6_col5 {\n",
       "  background-color: #3b4cc0;\n",
       "  color: #f1f1f1;\n",
       "}\n",
       "#T_d01ae_row2_col0 {\n",
       "  background-color: #f7b093;\n",
       "  color: #000000;\n",
       "}\n",
       "#T_d01ae_row2_col3 {\n",
       "  background-color: #e57058;\n",
       "  color: #f1f1f1;\n",
       "}\n",
       "#T_d01ae_row2_col4 {\n",
       "  background-color: #f5c1a9;\n",
       "  color: #000000;\n",
       "}\n",
       "#T_d01ae_row2_col5 {\n",
       "  background-color: #dfdbd9;\n",
       "  color: #000000;\n",
       "}\n",
       "#T_d01ae_row2_col6 {\n",
       "  background-color: #4e68d8;\n",
       "  color: #f1f1f1;\n",
       "}\n",
       "#T_d01ae_row3_col0, #T_d01ae_row5_col2 {\n",
       "  background-color: #e3d9d3;\n",
       "  color: #000000;\n",
       "}\n",
       "#T_d01ae_row3_col1 {\n",
       "  background-color: #e1dad6;\n",
       "  color: #000000;\n",
       "}\n",
       "#T_d01ae_row3_col2 {\n",
       "  background-color: #e46e56;\n",
       "  color: #f1f1f1;\n",
       "}\n",
       "#T_d01ae_row3_col4, #T_d01ae_row4_col3 {\n",
       "  background-color: #dbdcde;\n",
       "  color: #000000;\n",
       "}\n",
       "#T_d01ae_row3_col5, #T_d01ae_row5_col3 {\n",
       "  background-color: #b6cefa;\n",
       "  color: #000000;\n",
       "}\n",
       "#T_d01ae_row3_col6, #T_d01ae_row4_col6 {\n",
       "  background-color: #5673e0;\n",
       "  color: #f1f1f1;\n",
       "}\n",
       "#T_d01ae_row4_col0 {\n",
       "  background-color: #ee8669;\n",
       "  color: #f1f1f1;\n",
       "}\n",
       "#T_d01ae_row4_col1 {\n",
       "  background-color: #e9d5cb;\n",
       "  color: #000000;\n",
       "}\n",
       "#T_d01ae_row4_col2 {\n",
       "  background-color: #f6bea4;\n",
       "  color: #000000;\n",
       "}\n",
       "#T_d01ae_row4_col5, #T_d01ae_row5_col4 {\n",
       "  background-color: #c5d6f2;\n",
       "  color: #000000;\n",
       "}\n",
       "#T_d01ae_row5_col0 {\n",
       "  background-color: #e26952;\n",
       "  color: #f1f1f1;\n",
       "}\n",
       "#T_d01ae_row5_col1 {\n",
       "  background-color: #f7a98b;\n",
       "  color: #000000;\n",
       "}\n",
       "#T_d01ae_row5_col6 {\n",
       "  background-color: #5572df;\n",
       "  color: #f1f1f1;\n",
       "}\n",
       "</style>\n",
       "<table id=\"T_d01ae\">\n",
       "  <thead>\n",
       "    <tr>\n",
       "      <th class=\"blank level0\" >&nbsp;</th>\n",
       "      <th id=\"T_d01ae_level0_col0\" class=\"col_heading level0 col0\" >TotalMnt</th>\n",
       "      <th id=\"T_d01ae_level0_col1\" class=\"col_heading level0 col1\" >TotalPurchases</th>\n",
       "      <th id=\"T_d01ae_level0_col2\" class=\"col_heading level0 col2\" >NCatalogPurchases</th>\n",
       "      <th id=\"T_d01ae_level0_col3\" class=\"col_heading level0 col3\" >PCatalogPurchases</th>\n",
       "      <th id=\"T_d01ae_level0_col4\" class=\"col_heading level0 col4\" >MntMeatProducts</th>\n",
       "      <th id=\"T_d01ae_level0_col5\" class=\"col_heading level0 col5\" >MntWines</th>\n",
       "      <th id=\"T_d01ae_level0_col6\" class=\"col_heading level0 col6\" >Response</th>\n",
       "    </tr>\n",
       "  </thead>\n",
       "  <tbody>\n",
       "    <tr>\n",
       "      <th id=\"T_d01ae_level0_row0\" class=\"row_heading level0 row0\" >TotalMnt</th>\n",
       "      <td id=\"T_d01ae_row0_col0\" class=\"data row0 col0\" >1.000000</td>\n",
       "      <td id=\"T_d01ae_row0_col1\" class=\"data row0 col1\" >0.813456</td>\n",
       "      <td id=\"T_d01ae_row0_col2\" class=\"data row0 col2\" >0.769816</td>\n",
       "      <td id=\"T_d01ae_row0_col3\" class=\"data row0 col3\" >0.648953</td>\n",
       "      <td id=\"T_d01ae_row0_col4\" class=\"data row0 col4\" >0.847600</td>\n",
       "      <td id=\"T_d01ae_row0_col5\" class=\"data row0 col5\" >0.894121</td>\n",
       "      <td id=\"T_d01ae_row0_col6\" class=\"data row0 col6\" >0.262011</td>\n",
       "    </tr>\n",
       "    <tr>\n",
       "      <th id=\"T_d01ae_level0_row1\" class=\"row_heading level0 row1\" >TotalPurchases</th>\n",
       "      <td id=\"T_d01ae_row1_col0\" class=\"data row1 col0\" >0.813456</td>\n",
       "      <td id=\"T_d01ae_row1_col1\" class=\"data row1 col1\" >1.000000</td>\n",
       "      <td id=\"T_d01ae_row1_col2\" class=\"data row1 col2\" >0.789407</td>\n",
       "      <td id=\"T_d01ae_row1_col3\" class=\"data row1 col3\" >0.595239</td>\n",
       "      <td id=\"T_d01ae_row1_col4\" class=\"data row1 col4\" >0.623801</td>\n",
       "      <td id=\"T_d01ae_row1_col5\" class=\"data row1 col5\" >0.758104</td>\n",
       "      <td id=\"T_d01ae_row1_col6\" class=\"data row1 col6\" >0.164250</td>\n",
       "    </tr>\n",
       "    <tr>\n",
       "      <th id=\"T_d01ae_level0_row2\" class=\"row_heading level0 row2\" >NCatalogPurchases</th>\n",
       "      <td id=\"T_d01ae_row2_col0\" class=\"data row2 col0\" >0.769816</td>\n",
       "      <td id=\"T_d01ae_row2_col1\" class=\"data row2 col1\" >0.789407</td>\n",
       "      <td id=\"T_d01ae_row2_col2\" class=\"data row2 col2\" >1.000000</td>\n",
       "      <td id=\"T_d01ae_row2_col3\" class=\"data row2 col3\" >0.880250</td>\n",
       "      <td id=\"T_d01ae_row2_col4\" class=\"data row2 col4\" >0.722469</td>\n",
       "      <td id=\"T_d01ae_row2_col5\" class=\"data row2 col5\" >0.628274</td>\n",
       "      <td id=\"T_d01ae_row2_col6\" class=\"data row2 col6\" >0.217033</td>\n",
       "    </tr>\n",
       "    <tr>\n",
       "      <th id=\"T_d01ae_level0_row3\" class=\"row_heading level0 row3\" >PCatalogPurchases</th>\n",
       "      <td id=\"T_d01ae_row3_col0\" class=\"data row3 col0\" >0.648953</td>\n",
       "      <td id=\"T_d01ae_row3_col1\" class=\"data row3 col1\" >0.595239</td>\n",
       "      <td id=\"T_d01ae_row3_col2\" class=\"data row3 col2\" >0.880250</td>\n",
       "      <td id=\"T_d01ae_row3_col3\" class=\"data row3 col3\" >1.000000</td>\n",
       "      <td id=\"T_d01ae_row3_col4\" class=\"data row3 col4\" >0.615127</td>\n",
       "      <td id=\"T_d01ae_row3_col5\" class=\"data row3 col5\" >0.520621</td>\n",
       "      <td id=\"T_d01ae_row3_col6\" class=\"data row3 col6\" >0.241498</td>\n",
       "    </tr>\n",
       "    <tr>\n",
       "      <th id=\"T_d01ae_level0_row4\" class=\"row_heading level0 row4\" >MntMeatProducts</th>\n",
       "      <td id=\"T_d01ae_row4_col0\" class=\"data row4 col0\" >0.847600</td>\n",
       "      <td id=\"T_d01ae_row4_col1\" class=\"data row4 col1\" >0.623801</td>\n",
       "      <td id=\"T_d01ae_row4_col2\" class=\"data row4 col2\" >0.722469</td>\n",
       "      <td id=\"T_d01ae_row4_col3\" class=\"data row4 col3\" >0.615127</td>\n",
       "      <td id=\"T_d01ae_row4_col4\" class=\"data row4 col4\" >1.000000</td>\n",
       "      <td id=\"T_d01ae_row4_col5\" class=\"data row4 col5\" >0.556489</td>\n",
       "      <td id=\"T_d01ae_row4_col6\" class=\"data row4 col6\" >0.240398</td>\n",
       "    </tr>\n",
       "    <tr>\n",
       "      <th id=\"T_d01ae_level0_row5\" class=\"row_heading level0 row5\" >MntWines</th>\n",
       "      <td id=\"T_d01ae_row5_col0\" class=\"data row5 col0\" >0.894121</td>\n",
       "      <td id=\"T_d01ae_row5_col1\" class=\"data row5 col1\" >0.758104</td>\n",
       "      <td id=\"T_d01ae_row5_col2\" class=\"data row5 col2\" >0.628274</td>\n",
       "      <td id=\"T_d01ae_row5_col3\" class=\"data row5 col3\" >0.520621</td>\n",
       "      <td id=\"T_d01ae_row5_col4\" class=\"data row5 col4\" >0.556489</td>\n",
       "      <td id=\"T_d01ae_row5_col5\" class=\"data row5 col5\" >1.000000</td>\n",
       "      <td id=\"T_d01ae_row5_col6\" class=\"data row5 col6\" >0.239268</td>\n",
       "    </tr>\n",
       "    <tr>\n",
       "      <th id=\"T_d01ae_level0_row6\" class=\"row_heading level0 row6\" >Response</th>\n",
       "      <td id=\"T_d01ae_row6_col0\" class=\"data row6 col0\" >0.262011</td>\n",
       "      <td id=\"T_d01ae_row6_col1\" class=\"data row6 col1\" >0.164250</td>\n",
       "      <td id=\"T_d01ae_row6_col2\" class=\"data row6 col2\" >0.217033</td>\n",
       "      <td id=\"T_d01ae_row6_col3\" class=\"data row6 col3\" >0.241498</td>\n",
       "      <td id=\"T_d01ae_row6_col4\" class=\"data row6 col4\" >0.240398</td>\n",
       "      <td id=\"T_d01ae_row6_col5\" class=\"data row6 col5\" >0.239268</td>\n",
       "      <td id=\"T_d01ae_row6_col6\" class=\"data row6 col6\" >1.000000</td>\n",
       "    </tr>\n",
       "  </tbody>\n",
       "</table>\n"
      ],
      "text/plain": [
       "<pandas.io.formats.style.Styler at 0x19c9857ac70>"
      ]
     },
     "metadata": {},
     "output_type": "display_data"
    }
   ],
   "source": [
    "mostcorrelated = [\"TotalMnt\", \"TotalPurchases\", \"NCatalogPurchases\", 'PCatalogPurchases', \"MntMeatProducts\", \"MntWines\", 'Response']\n",
    "\n",
    "display_correlation(mostcorrelated)"
   ]
  },
  {
   "cell_type": "markdown",
   "id": "cc1f7611-2ad7-436b-a82a-31b54584a78b",
   "metadata": {},
   "source": [
    "<br>\n",
    "\n",
    "##### **2.1.1** Mnt Features\n",
    "\n",
    "Three of the highest correlation values between features correspond to Mnt features (MntMeatProducts, MntWines and TotalMnt) in both spearman's and pearson's correlation. Since they have such high correlations, it is only necessary to have one of them in the model, so that their behaviour is represented for just one of those features, and not to create bias. Thus, we can compare those features and see which one has the highest correlation with the target, through a correlation matrix, generated in the code bellow, with the function ``display_correlation()``."
   ]
  },
  {
   "cell_type": "code",
   "execution_count": 10,
   "id": "5414fd0f-2ffd-40ea-ba72-dc723d315838",
   "metadata": {},
   "outputs": [
    {
     "data": {
      "text/plain": [
       "'Spearman:'"
      ]
     },
     "metadata": {},
     "output_type": "display_data"
    },
    {
     "data": {
      "text/html": [
       "<style type=\"text/css\">\n",
       "#T_ae9bc_row0_col0, #T_ae9bc_row1_col1, #T_ae9bc_row2_col2, #T_ae9bc_row3_col3 {\n",
       "  background-color: #b40426;\n",
       "  color: #f1f1f1;\n",
       "}\n",
       "#T_ae9bc_row0_col1 {\n",
       "  background-color: #f18d6f;\n",
       "  color: #f1f1f1;\n",
       "}\n",
       "#T_ae9bc_row0_col2 {\n",
       "  background-color: #cf453c;\n",
       "  color: #f1f1f1;\n",
       "}\n",
       "#T_ae9bc_row0_col3 {\n",
       "  background-color: #455cce;\n",
       "  color: #f1f1f1;\n",
       "}\n",
       "#T_ae9bc_row1_col0 {\n",
       "  background-color: #f29274;\n",
       "  color: #f1f1f1;\n",
       "}\n",
       "#T_ae9bc_row1_col2 {\n",
       "  background-color: #d1493f;\n",
       "  color: #f1f1f1;\n",
       "}\n",
       "#T_ae9bc_row1_col3, #T_ae9bc_row3_col0, #T_ae9bc_row3_col1, #T_ae9bc_row3_col2 {\n",
       "  background-color: #3b4cc0;\n",
       "  color: #f1f1f1;\n",
       "}\n",
       "#T_ae9bc_row2_col0 {\n",
       "  background-color: #cd423b;\n",
       "  color: #f1f1f1;\n",
       "}\n",
       "#T_ae9bc_row2_col1 {\n",
       "  background-color: #d0473d;\n",
       "  color: #f1f1f1;\n",
       "}\n",
       "#T_ae9bc_row2_col3 {\n",
       "  background-color: #485fd1;\n",
       "  color: #f1f1f1;\n",
       "}\n",
       "</style>\n",
       "<table id=\"T_ae9bc\">\n",
       "  <thead>\n",
       "    <tr>\n",
       "      <th class=\"blank level0\" >&nbsp;</th>\n",
       "      <th id=\"T_ae9bc_level0_col0\" class=\"col_heading level0 col0\" >MntMeatProducts</th>\n",
       "      <th id=\"T_ae9bc_level0_col1\" class=\"col_heading level0 col1\" >MntWines</th>\n",
       "      <th id=\"T_ae9bc_level0_col2\" class=\"col_heading level0 col2\" >TotalMnt</th>\n",
       "      <th id=\"T_ae9bc_level0_col3\" class=\"col_heading level0 col3\" >Response</th>\n",
       "    </tr>\n",
       "  </thead>\n",
       "  <tbody>\n",
       "    <tr>\n",
       "      <th id=\"T_ae9bc_level0_row0\" class=\"row_heading level0 row0\" >MntMeatProducts</th>\n",
       "      <td id=\"T_ae9bc_row0_col0\" class=\"data row0 col0\" >1.000000</td>\n",
       "      <td id=\"T_ae9bc_row0_col1\" class=\"data row0 col1\" >0.820524</td>\n",
       "      <td id=\"T_ae9bc_row0_col2\" class=\"data row0 col2\" >0.942492</td>\n",
       "      <td id=\"T_ae9bc_row0_col3\" class=\"data row0 col3\" >0.223981</td>\n",
       "    </tr>\n",
       "    <tr>\n",
       "      <th id=\"T_ae9bc_level0_row1\" class=\"row_heading level0 row1\" >MntWines</th>\n",
       "      <td id=\"T_ae9bc_row1_col0\" class=\"data row1 col0\" >0.820524</td>\n",
       "      <td id=\"T_ae9bc_row1_col1\" class=\"data row1 col1\" >1.000000</td>\n",
       "      <td id=\"T_ae9bc_row1_col2\" class=\"data row1 col2\" >0.934322</td>\n",
       "      <td id=\"T_ae9bc_row1_col3\" class=\"data row1 col3\" >0.193612</td>\n",
       "    </tr>\n",
       "    <tr>\n",
       "      <th id=\"T_ae9bc_level0_row2\" class=\"row_heading level0 row2\" >TotalMnt</th>\n",
       "      <td id=\"T_ae9bc_row2_col0\" class=\"data row2 col0\" >0.942492</td>\n",
       "      <td id=\"T_ae9bc_row2_col1\" class=\"data row2 col1\" >0.934322</td>\n",
       "      <td id=\"T_ae9bc_row2_col2\" class=\"data row2 col2\" >1.000000</td>\n",
       "      <td id=\"T_ae9bc_row2_col3\" class=\"data row2 col3\" >0.228446</td>\n",
       "    </tr>\n",
       "    <tr>\n",
       "      <th id=\"T_ae9bc_level0_row3\" class=\"row_heading level0 row3\" >Response</th>\n",
       "      <td id=\"T_ae9bc_row3_col0\" class=\"data row3 col0\" >0.223981</td>\n",
       "      <td id=\"T_ae9bc_row3_col1\" class=\"data row3 col1\" >0.193612</td>\n",
       "      <td id=\"T_ae9bc_row3_col2\" class=\"data row3 col2\" >0.228446</td>\n",
       "      <td id=\"T_ae9bc_row3_col3\" class=\"data row3 col3\" >1.000000</td>\n",
       "    </tr>\n",
       "  </tbody>\n",
       "</table>\n"
      ],
      "text/plain": [
       "<pandas.io.formats.style.Styler at 0x19c985fa880>"
      ]
     },
     "metadata": {},
     "output_type": "display_data"
    },
    {
     "data": {
      "text/plain": [
       "'---------'"
      ]
     },
     "metadata": {},
     "output_type": "display_data"
    },
    {
     "data": {
      "text/plain": [
       "'Pearson:'"
      ]
     },
     "metadata": {},
     "output_type": "display_data"
    },
    {
     "data": {
      "text/html": [
       "<style type=\"text/css\">\n",
       "#T_480a0_row0_col0, #T_480a0_row1_col1, #T_480a0_row2_col2, #T_480a0_row3_col3 {\n",
       "  background-color: #b40426;\n",
       "  color: #f1f1f1;\n",
       "}\n",
       "#T_480a0_row0_col1, #T_480a0_row1_col0 {\n",
       "  background-color: #c5d6f2;\n",
       "  color: #000000;\n",
       "}\n",
       "#T_480a0_row0_col2 {\n",
       "  background-color: #ee8669;\n",
       "  color: #f1f1f1;\n",
       "}\n",
       "#T_480a0_row0_col3, #T_480a0_row1_col3, #T_480a0_row3_col0, #T_480a0_row3_col1, #T_480a0_row3_col2 {\n",
       "  background-color: #3b4cc0;\n",
       "  color: #f1f1f1;\n",
       "}\n",
       "#T_480a0_row1_col2 {\n",
       "  background-color: #e26952;\n",
       "  color: #f1f1f1;\n",
       "}\n",
       "#T_480a0_row2_col0 {\n",
       "  background-color: #ee8468;\n",
       "  color: #f1f1f1;\n",
       "}\n",
       "#T_480a0_row2_col1 {\n",
       "  background-color: #e16751;\n",
       "  color: #f1f1f1;\n",
       "}\n",
       "#T_480a0_row2_col3 {\n",
       "  background-color: #4358cb;\n",
       "  color: #f1f1f1;\n",
       "}\n",
       "</style>\n",
       "<table id=\"T_480a0\">\n",
       "  <thead>\n",
       "    <tr>\n",
       "      <th class=\"blank level0\" >&nbsp;</th>\n",
       "      <th id=\"T_480a0_level0_col0\" class=\"col_heading level0 col0\" >MntMeatProducts</th>\n",
       "      <th id=\"T_480a0_level0_col1\" class=\"col_heading level0 col1\" >MntWines</th>\n",
       "      <th id=\"T_480a0_level0_col2\" class=\"col_heading level0 col2\" >TotalMnt</th>\n",
       "      <th id=\"T_480a0_level0_col3\" class=\"col_heading level0 col3\" >Response</th>\n",
       "    </tr>\n",
       "  </thead>\n",
       "  <tbody>\n",
       "    <tr>\n",
       "      <th id=\"T_480a0_level0_row0\" class=\"row_heading level0 row0\" >MntMeatProducts</th>\n",
       "      <td id=\"T_480a0_row0_col0\" class=\"data row0 col0\" >1.000000</td>\n",
       "      <td id=\"T_480a0_row0_col1\" class=\"data row0 col1\" >0.556489</td>\n",
       "      <td id=\"T_480a0_row0_col2\" class=\"data row0 col2\" >0.847600</td>\n",
       "      <td id=\"T_480a0_row0_col3\" class=\"data row0 col3\" >0.240398</td>\n",
       "    </tr>\n",
       "    <tr>\n",
       "      <th id=\"T_480a0_level0_row1\" class=\"row_heading level0 row1\" >MntWines</th>\n",
       "      <td id=\"T_480a0_row1_col0\" class=\"data row1 col0\" >0.556489</td>\n",
       "      <td id=\"T_480a0_row1_col1\" class=\"data row1 col1\" >1.000000</td>\n",
       "      <td id=\"T_480a0_row1_col2\" class=\"data row1 col2\" >0.894121</td>\n",
       "      <td id=\"T_480a0_row1_col3\" class=\"data row1 col3\" >0.239268</td>\n",
       "    </tr>\n",
       "    <tr>\n",
       "      <th id=\"T_480a0_level0_row2\" class=\"row_heading level0 row2\" >TotalMnt</th>\n",
       "      <td id=\"T_480a0_row2_col0\" class=\"data row2 col0\" >0.847600</td>\n",
       "      <td id=\"T_480a0_row2_col1\" class=\"data row2 col1\" >0.894121</td>\n",
       "      <td id=\"T_480a0_row2_col2\" class=\"data row2 col2\" >1.000000</td>\n",
       "      <td id=\"T_480a0_row2_col3\" class=\"data row2 col3\" >0.262011</td>\n",
       "    </tr>\n",
       "    <tr>\n",
       "      <th id=\"T_480a0_level0_row3\" class=\"row_heading level0 row3\" >Response</th>\n",
       "      <td id=\"T_480a0_row3_col0\" class=\"data row3 col0\" >0.240398</td>\n",
       "      <td id=\"T_480a0_row3_col1\" class=\"data row3 col1\" >0.239268</td>\n",
       "      <td id=\"T_480a0_row3_col2\" class=\"data row3 col2\" >0.262011</td>\n",
       "      <td id=\"T_480a0_row3_col3\" class=\"data row3 col3\" >1.000000</td>\n",
       "    </tr>\n",
       "  </tbody>\n",
       "</table>\n"
      ],
      "text/plain": [
       "<pandas.io.formats.style.Styler at 0x19c9857a160>"
      ]
     },
     "metadata": {},
     "output_type": "display_data"
    }
   ],
   "source": [
    "mostcorrelated = [\"MntMeatProducts\", \"MntWines\", 'TotalMnt', 'Response']\n",
    "\n",
    "display_correlation(mostcorrelated)"
   ]
  },
  {
   "cell_type": "markdown",
   "id": "02eb46f6-e2d7-40e9-a92c-29221dd3dfcb",
   "metadata": {},
   "source": [
    "In the correlation matrices represented above, the feature that seems more relevant is the TotalMnt, due to the fact that:\n",
    "* The correlation between TotalMnt and Response is the highest among the three features considered, in both correlation matrices. That is, the TotalMnt feature is the one that affects the target the most.\n",
    "* The TotalMnt has a high correlation with both MntWines and MntMeatProducts, therefore it may be able to explain their behaviour. However, the MntWines and MntMeatProducts, could not so surely explain each others behaviour by the pearson's correlation, whereas by the spearman's correlation they are too correlated not to be considered as objects of redundancy. If we were to choose MntWines or MntMeatProducts, the two correlation matrices guide as in different directions in terms of how to act about the correlation existent between them. To avoid that problem, it would be better to choose the TotalMnt to be the explanatory feature among those three.\n",
    "\n",
    "Hence, we can remove the features MntWines and MntMeatProducts from the dataset, which is performed in the code bellow:"
   ]
  },
  {
   "cell_type": "code",
   "execution_count": 11,
   "id": "64fe79a3-b013-41d4-8d22-00072d1319ad",
   "metadata": {},
   "outputs": [],
   "source": [
    "data = data.drop(['MntWines', 'MntMeatProducts'], axis = 1)"
   ]
  },
  {
   "cell_type": "markdown",
   "id": "d6546c1c-a4df-4593-bc30-40cf05a53db2",
   "metadata": {},
   "source": [
    "<br>\n",
    "\n",
    "##### **2.1.2** NCatalogPurchases and PCatalogPurchases\n",
    "\n",
    "Following the Mnt features, NCatalogPurchases and PCatalogPurchases are the ones with the highest correlation between them. Therefore, as previously stated, that type of correlation can lead to redundancy and one of those two features must be removed. To acknowlegde which of the two features is the most relevant, the matrices are computed in the code bellow, using the ``display_correlation()`` function."
   ]
  },
  {
   "cell_type": "code",
   "execution_count": 12,
   "id": "abe14ddb-ec96-460f-8990-5c5daaa880e3",
   "metadata": {},
   "outputs": [
    {
     "data": {
      "text/plain": [
       "'Spearman:'"
      ]
     },
     "metadata": {},
     "output_type": "display_data"
    },
    {
     "data": {
      "text/html": [
       "<style type=\"text/css\">\n",
       "#T_fb60f_row0_col0, #T_fb60f_row1_col1, #T_fb60f_row2_col2 {\n",
       "  background-color: #b40426;\n",
       "  color: #f1f1f1;\n",
       "}\n",
       "#T_fb60f_row0_col1 {\n",
       "  background-color: #dc5d4a;\n",
       "  color: #f1f1f1;\n",
       "}\n",
       "#T_fb60f_row0_col2, #T_fb60f_row2_col0, #T_fb60f_row2_col1 {\n",
       "  background-color: #3b4cc0;\n",
       "  color: #f1f1f1;\n",
       "}\n",
       "#T_fb60f_row1_col0 {\n",
       "  background-color: #da5a49;\n",
       "  color: #f1f1f1;\n",
       "}\n",
       "#T_fb60f_row1_col2 {\n",
       "  background-color: #4257c9;\n",
       "  color: #f1f1f1;\n",
       "}\n",
       "</style>\n",
       "<table id=\"T_fb60f\">\n",
       "  <thead>\n",
       "    <tr>\n",
       "      <th class=\"blank level0\" >&nbsp;</th>\n",
       "      <th id=\"T_fb60f_level0_col0\" class=\"col_heading level0 col0\" >NCatalogPurchases</th>\n",
       "      <th id=\"T_fb60f_level0_col1\" class=\"col_heading level0 col1\" >PCatalogPurchases</th>\n",
       "      <th id=\"T_fb60f_level0_col2\" class=\"col_heading level0 col2\" >Response</th>\n",
       "    </tr>\n",
       "  </thead>\n",
       "  <tbody>\n",
       "    <tr>\n",
       "      <th id=\"T_fb60f_level0_row0\" class=\"row_heading level0 row0\" >NCatalogPurchases</th>\n",
       "      <td id=\"T_fb60f_row0_col0\" class=\"data row0 col0\" >1.000000</td>\n",
       "      <td id=\"T_fb60f_row0_col1\" class=\"data row0 col1\" >0.912137</td>\n",
       "      <td id=\"T_fb60f_row0_col2\" class=\"data row0 col2\" >0.232909</td>\n",
       "    </tr>\n",
       "    <tr>\n",
       "      <th id=\"T_fb60f_level0_row1\" class=\"row_heading level0 row1\" >PCatalogPurchases</th>\n",
       "      <td id=\"T_fb60f_row1_col0\" class=\"data row1 col0\" >0.912137</td>\n",
       "      <td id=\"T_fb60f_row1_col1\" class=\"data row1 col1\" >1.000000</td>\n",
       "      <td id=\"T_fb60f_row1_col2\" class=\"data row1 col2\" >0.253072</td>\n",
       "    </tr>\n",
       "    <tr>\n",
       "      <th id=\"T_fb60f_level0_row2\" class=\"row_heading level0 row2\" >Response</th>\n",
       "      <td id=\"T_fb60f_row2_col0\" class=\"data row2 col0\" >0.232909</td>\n",
       "      <td id=\"T_fb60f_row2_col1\" class=\"data row2 col1\" >0.253072</td>\n",
       "      <td id=\"T_fb60f_row2_col2\" class=\"data row2 col2\" >1.000000</td>\n",
       "    </tr>\n",
       "  </tbody>\n",
       "</table>\n"
      ],
      "text/plain": [
       "<pandas.io.formats.style.Styler at 0x19c98577be0>"
      ]
     },
     "metadata": {},
     "output_type": "display_data"
    },
    {
     "data": {
      "text/plain": [
       "'---------'"
      ]
     },
     "metadata": {},
     "output_type": "display_data"
    },
    {
     "data": {
      "text/plain": [
       "'Pearson:'"
      ]
     },
     "metadata": {},
     "output_type": "display_data"
    },
    {
     "data": {
      "text/html": [
       "<style type=\"text/css\">\n",
       "#T_f804b_row0_col0, #T_f804b_row1_col1, #T_f804b_row2_col2 {\n",
       "  background-color: #b40426;\n",
       "  color: #f1f1f1;\n",
       "}\n",
       "#T_f804b_row0_col1 {\n",
       "  background-color: #e57058;\n",
       "  color: #f1f1f1;\n",
       "}\n",
       "#T_f804b_row0_col2, #T_f804b_row2_col0, #T_f804b_row2_col1 {\n",
       "  background-color: #3b4cc0;\n",
       "  color: #f1f1f1;\n",
       "}\n",
       "#T_f804b_row1_col0 {\n",
       "  background-color: #e46e56;\n",
       "  color: #f1f1f1;\n",
       "}\n",
       "#T_f804b_row1_col2 {\n",
       "  background-color: #4358cb;\n",
       "  color: #f1f1f1;\n",
       "}\n",
       "</style>\n",
       "<table id=\"T_f804b\">\n",
       "  <thead>\n",
       "    <tr>\n",
       "      <th class=\"blank level0\" >&nbsp;</th>\n",
       "      <th id=\"T_f804b_level0_col0\" class=\"col_heading level0 col0\" >NCatalogPurchases</th>\n",
       "      <th id=\"T_f804b_level0_col1\" class=\"col_heading level0 col1\" >PCatalogPurchases</th>\n",
       "      <th id=\"T_f804b_level0_col2\" class=\"col_heading level0 col2\" >Response</th>\n",
       "    </tr>\n",
       "  </thead>\n",
       "  <tbody>\n",
       "    <tr>\n",
       "      <th id=\"T_f804b_level0_row0\" class=\"row_heading level0 row0\" >NCatalogPurchases</th>\n",
       "      <td id=\"T_f804b_row0_col0\" class=\"data row0 col0\" >1.000000</td>\n",
       "      <td id=\"T_f804b_row0_col1\" class=\"data row0 col1\" >0.880250</td>\n",
       "      <td id=\"T_f804b_row0_col2\" class=\"data row0 col2\" >0.217033</td>\n",
       "    </tr>\n",
       "    <tr>\n",
       "      <th id=\"T_f804b_level0_row1\" class=\"row_heading level0 row1\" >PCatalogPurchases</th>\n",
       "      <td id=\"T_f804b_row1_col0\" class=\"data row1 col0\" >0.880250</td>\n",
       "      <td id=\"T_f804b_row1_col1\" class=\"data row1 col1\" >1.000000</td>\n",
       "      <td id=\"T_f804b_row1_col2\" class=\"data row1 col2\" >0.241498</td>\n",
       "    </tr>\n",
       "    <tr>\n",
       "      <th id=\"T_f804b_level0_row2\" class=\"row_heading level0 row2\" >Response</th>\n",
       "      <td id=\"T_f804b_row2_col0\" class=\"data row2 col0\" >0.217033</td>\n",
       "      <td id=\"T_f804b_row2_col1\" class=\"data row2 col1\" >0.241498</td>\n",
       "      <td id=\"T_f804b_row2_col2\" class=\"data row2 col2\" >1.000000</td>\n",
       "    </tr>\n",
       "  </tbody>\n",
       "</table>\n"
      ],
      "text/plain": [
       "<pandas.io.formats.style.Styler at 0x19c986bd760>"
      ]
     },
     "metadata": {},
     "output_type": "display_data"
    }
   ],
   "source": [
    "CatalogPurchases = [\"NCatalogPurchases\", 'PCatalogPurchases', 'Response']\n",
    "\n",
    "display_correlation(CatalogPurchases)"
   ]
  },
  {
   "cell_type": "markdown",
   "id": "2d16ed36-3b03-42fb-9455-e6daf54a1476",
   "metadata": {},
   "source": [
    "In this case, the PCatalogPurchases is more correlated to the Response variable than NCatalogPurchases in both matrices. Thus, the feature considered as the most relevant between them is the PCatalogPurchases. NCatalogPurchases is, therefore, removed in the cell bellow."
   ]
  },
  {
   "cell_type": "code",
   "execution_count": 13,
   "id": "82ae7043-99af-457e-810a-da870a93c2b7",
   "metadata": {},
   "outputs": [],
   "source": [
    "data = data.drop('NCatalogPurchases', axis = 1)"
   ]
  },
  {
   "cell_type": "markdown",
   "id": "bf265ea6-c612-4460-9eec-2faaaec15c4a",
   "metadata": {},
   "source": [
    "##### **2.1.3** TotalMnt and TotalPurchases\n",
    "\n",
    "The last significantly high correlation (above 0.90) among the first six features, corresponds to the TotalMnt and the TotalPurchases. To solve the redundancy that this correlation generates, we must eliminate one of this features. In order to know which one should be removed, the matrices between the two of them and the target is built in the code bellow, using the ``display_correlation()`` function."
   ]
  },
  {
   "cell_type": "code",
   "execution_count": 14,
   "id": "d8cd814d-0516-484c-b1d4-7185ef8e298d",
   "metadata": {},
   "outputs": [
    {
     "data": {
      "text/plain": [
       "'Spearman:'"
      ]
     },
     "metadata": {},
     "output_type": "display_data"
    },
    {
     "data": {
      "text/html": [
       "<style type=\"text/css\">\n",
       "#T_c62fe_row0_col0, #T_c62fe_row1_col1, #T_c62fe_row2_col2 {\n",
       "  background-color: #b40426;\n",
       "  color: #f1f1f1;\n",
       "}\n",
       "#T_c62fe_row0_col1 {\n",
       "  background-color: #d85646;\n",
       "  color: #f1f1f1;\n",
       "}\n",
       "#T_c62fe_row0_col2 {\n",
       "  background-color: #516ddb;\n",
       "  color: #f1f1f1;\n",
       "}\n",
       "#T_c62fe_row1_col0 {\n",
       "  background-color: #da5a49;\n",
       "  color: #f1f1f1;\n",
       "}\n",
       "#T_c62fe_row1_col2, #T_c62fe_row2_col0, #T_c62fe_row2_col1 {\n",
       "  background-color: #3b4cc0;\n",
       "  color: #f1f1f1;\n",
       "}\n",
       "</style>\n",
       "<table id=\"T_c62fe\">\n",
       "  <thead>\n",
       "    <tr>\n",
       "      <th class=\"blank level0\" >&nbsp;</th>\n",
       "      <th id=\"T_c62fe_level0_col0\" class=\"col_heading level0 col0\" >TotalMnt</th>\n",
       "      <th id=\"T_c62fe_level0_col1\" class=\"col_heading level0 col1\" >TotalPurchases</th>\n",
       "      <th id=\"T_c62fe_level0_col2\" class=\"col_heading level0 col2\" >Response</th>\n",
       "    </tr>\n",
       "  </thead>\n",
       "  <tbody>\n",
       "    <tr>\n",
       "      <th id=\"T_c62fe_level0_row0\" class=\"row_heading level0 row0\" >TotalMnt</th>\n",
       "      <td id=\"T_c62fe_row0_col0\" class=\"data row0 col0\" >1.000000</td>\n",
       "      <td id=\"T_c62fe_row0_col1\" class=\"data row0 col1\" >0.910064</td>\n",
       "      <td id=\"T_c62fe_row0_col2\" class=\"data row0 col2\" >0.228446</td>\n",
       "    </tr>\n",
       "    <tr>\n",
       "      <th id=\"T_c62fe_level0_row1\" class=\"row_heading level0 row1\" >TotalPurchases</th>\n",
       "      <td id=\"T_c62fe_row1_col0\" class=\"data row1 col0\" >0.910064</td>\n",
       "      <td id=\"T_c62fe_row1_col1\" class=\"data row1 col1\" >1.000000</td>\n",
       "      <td id=\"T_c62fe_row1_col2\" class=\"data row1 col2\" >0.166272</td>\n",
       "    </tr>\n",
       "    <tr>\n",
       "      <th id=\"T_c62fe_level0_row2\" class=\"row_heading level0 row2\" >Response</th>\n",
       "      <td id=\"T_c62fe_row2_col0\" class=\"data row2 col0\" >0.228446</td>\n",
       "      <td id=\"T_c62fe_row2_col1\" class=\"data row2 col1\" >0.166272</td>\n",
       "      <td id=\"T_c62fe_row2_col2\" class=\"data row2 col2\" >1.000000</td>\n",
       "    </tr>\n",
       "  </tbody>\n",
       "</table>\n"
      ],
      "text/plain": [
       "<pandas.io.formats.style.Styler at 0x19c98577be0>"
      ]
     },
     "metadata": {},
     "output_type": "display_data"
    },
    {
     "data": {
      "text/plain": [
       "'---------'"
      ]
     },
     "metadata": {},
     "output_type": "display_data"
    },
    {
     "data": {
      "text/plain": [
       "'Pearson:'"
      ]
     },
     "metadata": {},
     "output_type": "display_data"
    },
    {
     "data": {
      "text/html": [
       "<style type=\"text/css\">\n",
       "#T_d8c38_row0_col0, #T_d8c38_row1_col1, #T_d8c38_row2_col2 {\n",
       "  background-color: #b40426;\n",
       "  color: #f1f1f1;\n",
       "}\n",
       "#T_d8c38_row0_col1 {\n",
       "  background-color: #f18f71;\n",
       "  color: #f1f1f1;\n",
       "}\n",
       "#T_d8c38_row0_col2 {\n",
       "  background-color: #5e7de7;\n",
       "  color: #f1f1f1;\n",
       "}\n",
       "#T_d8c38_row1_col0 {\n",
       "  background-color: #f49a7b;\n",
       "  color: #000000;\n",
       "}\n",
       "#T_d8c38_row1_col2, #T_d8c38_row2_col0, #T_d8c38_row2_col1 {\n",
       "  background-color: #3b4cc0;\n",
       "  color: #f1f1f1;\n",
       "}\n",
       "</style>\n",
       "<table id=\"T_d8c38\">\n",
       "  <thead>\n",
       "    <tr>\n",
       "      <th class=\"blank level0\" >&nbsp;</th>\n",
       "      <th id=\"T_d8c38_level0_col0\" class=\"col_heading level0 col0\" >TotalMnt</th>\n",
       "      <th id=\"T_d8c38_level0_col1\" class=\"col_heading level0 col1\" >TotalPurchases</th>\n",
       "      <th id=\"T_d8c38_level0_col2\" class=\"col_heading level0 col2\" >Response</th>\n",
       "    </tr>\n",
       "  </thead>\n",
       "  <tbody>\n",
       "    <tr>\n",
       "      <th id=\"T_d8c38_level0_row0\" class=\"row_heading level0 row0\" >TotalMnt</th>\n",
       "      <td id=\"T_d8c38_row0_col0\" class=\"data row0 col0\" >1.000000</td>\n",
       "      <td id=\"T_d8c38_row0_col1\" class=\"data row0 col1\" >0.813456</td>\n",
       "      <td id=\"T_d8c38_row0_col2\" class=\"data row0 col2\" >0.262011</td>\n",
       "    </tr>\n",
       "    <tr>\n",
       "      <th id=\"T_d8c38_level0_row1\" class=\"row_heading level0 row1\" >TotalPurchases</th>\n",
       "      <td id=\"T_d8c38_row1_col0\" class=\"data row1 col0\" >0.813456</td>\n",
       "      <td id=\"T_d8c38_row1_col1\" class=\"data row1 col1\" >1.000000</td>\n",
       "      <td id=\"T_d8c38_row1_col2\" class=\"data row1 col2\" >0.164250</td>\n",
       "    </tr>\n",
       "    <tr>\n",
       "      <th id=\"T_d8c38_level0_row2\" class=\"row_heading level0 row2\" >Response</th>\n",
       "      <td id=\"T_d8c38_row2_col0\" class=\"data row2 col0\" >0.262011</td>\n",
       "      <td id=\"T_d8c38_row2_col1\" class=\"data row2 col1\" >0.164250</td>\n",
       "      <td id=\"T_d8c38_row2_col2\" class=\"data row2 col2\" >1.000000</td>\n",
       "    </tr>\n",
       "  </tbody>\n",
       "</table>\n"
      ],
      "text/plain": [
       "<pandas.io.formats.style.Styler at 0x19c986bd3a0>"
      ]
     },
     "metadata": {},
     "output_type": "display_data"
    }
   ],
   "source": [
    "totals = ['TotalMnt', 'TotalPurchases', 'Response']\n",
    "display_correlation(totals)"
   ]
  },
  {
   "cell_type": "markdown",
   "id": "2110e82c-7ca7-4366-acf9-cbb9e58167e4",
   "metadata": {},
   "source": [
    "According to the matrices above, the most relevant feature between the totals is the TotalMnt, having the highest correlation with the Response feature. Therefore, TotalPurchases is removed from the dataset in the cell bellow."
   ]
  },
  {
   "cell_type": "code",
   "execution_count": 15,
   "id": "02a2cf6c-f624-4547-8753-24906ca99d80",
   "metadata": {},
   "outputs": [],
   "source": [
    "data = data.drop('TotalPurchases', axis = 1)"
   ]
  },
  {
   "cell_type": "markdown",
   "id": "9f778635-4f72-428d-8ca2-71b0b2ff3f05",
   "metadata": {},
   "source": [
    "<br>\n",
    "\n",
    "#### **2.2** Verifying the Redundancy existent\n",
    "\n",
    "After the removal of some highly correlated columns and, therefore, some existent redundancy, it is important to verify which high correlations remain. To do that, it is used the same code as in the last stage (feature extraction) in the cell bellow, using the spearman's coefficient."
   ]
  },
  {
   "cell_type": "code",
   "execution_count": 16,
   "id": "e5867344-fa71-497b-b157-ac00b2d800f6",
   "metadata": {},
   "outputs": [
    {
     "name": "stdout",
     "output_type": "stream",
     "text": [
      "Top most correlated feature pairs:\n",
      " NChildren        HasChild             0.856953\n",
      "TotalMnt         NStorePurchases      0.812685\n",
      "Income           TotalMnt             0.808514\n",
      "TotalMnt         NWebPurchases        0.727244\n",
      "MntFruits        MntFishProducts      0.708400\n",
      "MntFishProducts  MntSweetProducts     0.706352\n",
      "TotalMnt         PCatalogPurchases    0.701144\n",
      "dtype: float64\n"
     ]
    }
   ],
   "source": [
    "# Numerical columns' names of the 'data' dataset stored in the 'numerical_columns' array\n",
    "numerical_columns = data.select_dtypes(include = \"number\").columns\n",
    "# Converting the array 'numerical_columns' into a list\n",
    "numerical_columns = list(numerical_columns)\n",
    "# Removing the element 'Response' from the list\n",
    "numerical_columns.remove('Response')\n",
    "\n",
    "# Computing the correlation matrix, using spearman's coefficient between all the numerical features\n",
    "plcc = data.loc[:, numerical_columns].corr(method=\"spearman\")\n",
    "# Displays the correlation matrix\n",
    "plcc.style.background_gradient(cmap='YlOrRd')\n",
    "\n",
    "# Reshapes the dataframe by converting the data into a stacked form\n",
    "plcc_u = plcc.stack()\n",
    "# Get the upper triangle of the matrix\n",
    "tri_u = np.triu(np.ones(plcc.shape)).astype('bool').reshape(plcc.size)  \n",
    "# Select unique pairs\n",
    "plcc_u = plcc_u[tri_u]  \n",
    "# Removes the low-correlated pairs and the auto-correlations, given a specified threshold\n",
    "l_threshold = 0.7\n",
    "u_threshold = 1\n",
    "plcc_top = plcc_u[(plcc_u.abs() > l_threshold) & (plcc_u.abs() < u_threshold) & (plcc_u!=1.0)]\n",
    "# Prints the output\n",
    "print(\"Top most correlated feature pairs:\\n\", plcc_top.abs().sort_values(ascending=False))"
   ]
  },
  {
   "cell_type": "markdown",
   "id": "7669aa5b-cefb-4a73-85bf-b22e7c109937",
   "metadata": {},
   "source": [
    "According to the values above, there are much less highly correlated features than there were in the last step (features extraction). However, there is still some redundancy that must be dealt with, and for that, the process of using correlation matrices to get the most relevant feature in a pair of highly correlated features will continue."
   ]
  },
  {
   "cell_type": "markdown",
   "id": "71f32c0d-4ce0-4bb2-8126-59d39cf20b27",
   "metadata": {},
   "source": [
    "<br>\n",
    "\n",
    "##### **2.2.1** NChildren and HasChild\n",
    "\n",
    "The feature pair with the largest correlation in the output of the cell above corresponds to the NChildren and HasChild columns. The most relevant between the two features will be acknowledged by visualizing the matrices computed bellow."
   ]
  },
  {
   "cell_type": "code",
   "execution_count": 17,
   "id": "9174831f-971f-4ec3-a56d-e31aa2e4282d",
   "metadata": {},
   "outputs": [
    {
     "data": {
      "text/plain": [
       "'Spearman:'"
      ]
     },
     "metadata": {},
     "output_type": "display_data"
    },
    {
     "data": {
      "text/html": [
       "<style type=\"text/css\">\n",
       "#T_be3d1_row0_col0, #T_be3d1_row1_col1, #T_be3d1_row2_col2 {\n",
       "  background-color: #b40426;\n",
       "  color: #f1f1f1;\n",
       "}\n",
       "#T_be3d1_row0_col1 {\n",
       "  background-color: #dd5f4b;\n",
       "  color: #f1f1f1;\n",
       "}\n",
       "#T_be3d1_row0_col2, #T_be3d1_row2_col0, #T_be3d1_row2_col1 {\n",
       "  background-color: #3b4cc0;\n",
       "  color: #f1f1f1;\n",
       "}\n",
       "#T_be3d1_row1_col0 {\n",
       "  background-color: #dc5d4a;\n",
       "  color: #f1f1f1;\n",
       "}\n",
       "#T_be3d1_row1_col2 {\n",
       "  background-color: #4257c9;\n",
       "  color: #f1f1f1;\n",
       "}\n",
       "</style>\n",
       "<table id=\"T_be3d1\">\n",
       "  <thead>\n",
       "    <tr>\n",
       "      <th class=\"blank level0\" >&nbsp;</th>\n",
       "      <th id=\"T_be3d1_level0_col0\" class=\"col_heading level0 col0\" >HasChild</th>\n",
       "      <th id=\"T_be3d1_level0_col1\" class=\"col_heading level0 col1\" >NChildren</th>\n",
       "      <th id=\"T_be3d1_level0_col2\" class=\"col_heading level0 col2\" >Response</th>\n",
       "    </tr>\n",
       "  </thead>\n",
       "  <tbody>\n",
       "    <tr>\n",
       "      <th id=\"T_be3d1_level0_row0\" class=\"row_heading level0 row0\" >HasChild</th>\n",
       "      <td id=\"T_be3d1_row0_col0\" class=\"data row0 col0\" >1.000000</td>\n",
       "      <td id=\"T_be3d1_row0_col1\" class=\"data row0 col1\" >0.856953</td>\n",
       "      <td id=\"T_be3d1_row0_col2\" class=\"data row0 col2\" >-0.206711</td>\n",
       "    </tr>\n",
       "    <tr>\n",
       "      <th id=\"T_be3d1_level0_row1\" class=\"row_heading level0 row1\" >NChildren</th>\n",
       "      <td id=\"T_be3d1_row1_col0\" class=\"data row1 col0\" >0.856953</td>\n",
       "      <td id=\"T_be3d1_row1_col1\" class=\"data row1 col1\" >1.000000</td>\n",
       "      <td id=\"T_be3d1_row1_col2\" class=\"data row1 col2\" >-0.176841</td>\n",
       "    </tr>\n",
       "    <tr>\n",
       "      <th id=\"T_be3d1_level0_row2\" class=\"row_heading level0 row2\" >Response</th>\n",
       "      <td id=\"T_be3d1_row2_col0\" class=\"data row2 col0\" >-0.206711</td>\n",
       "      <td id=\"T_be3d1_row2_col1\" class=\"data row2 col1\" >-0.176841</td>\n",
       "      <td id=\"T_be3d1_row2_col2\" class=\"data row2 col2\" >1.000000</td>\n",
       "    </tr>\n",
       "  </tbody>\n",
       "</table>\n"
      ],
      "text/plain": [
       "<pandas.io.formats.style.Styler at 0x19c986c5b80>"
      ]
     },
     "metadata": {},
     "output_type": "display_data"
    },
    {
     "data": {
      "text/plain": [
       "'---------'"
      ]
     },
     "metadata": {},
     "output_type": "display_data"
    },
    {
     "data": {
      "text/plain": [
       "'Pearson:'"
      ]
     },
     "metadata": {},
     "output_type": "display_data"
    },
    {
     "data": {
      "text/html": [
       "<style type=\"text/css\">\n",
       "#T_1399b_row0_col0, #T_1399b_row1_col1, #T_1399b_row2_col2 {\n",
       "  background-color: #b40426;\n",
       "  color: #f1f1f1;\n",
       "}\n",
       "#T_1399b_row0_col1 {\n",
       "  background-color: #e8765c;\n",
       "  color: #f1f1f1;\n",
       "}\n",
       "#T_1399b_row0_col2, #T_1399b_row2_col0, #T_1399b_row2_col1 {\n",
       "  background-color: #3b4cc0;\n",
       "  color: #f1f1f1;\n",
       "}\n",
       "#T_1399b_row1_col0 {\n",
       "  background-color: #e7745b;\n",
       "  color: #f1f1f1;\n",
       "}\n",
       "#T_1399b_row1_col2 {\n",
       "  background-color: #4358cb;\n",
       "  color: #f1f1f1;\n",
       "}\n",
       "</style>\n",
       "<table id=\"T_1399b\">\n",
       "  <thead>\n",
       "    <tr>\n",
       "      <th class=\"blank level0\" >&nbsp;</th>\n",
       "      <th id=\"T_1399b_level0_col0\" class=\"col_heading level0 col0\" >HasChild</th>\n",
       "      <th id=\"T_1399b_level0_col1\" class=\"col_heading level0 col1\" >NChildren</th>\n",
       "      <th id=\"T_1399b_level0_col2\" class=\"col_heading level0 col2\" >Response</th>\n",
       "    </tr>\n",
       "  </thead>\n",
       "  <tbody>\n",
       "    <tr>\n",
       "      <th id=\"T_1399b_level0_row0\" class=\"row_heading level0 row0\" >HasChild</th>\n",
       "      <td id=\"T_1399b_row0_col0\" class=\"data row0 col0\" >1.000000</td>\n",
       "      <td id=\"T_1399b_row0_col1\" class=\"data row0 col1\" >0.801809</td>\n",
       "      <td id=\"T_1399b_row0_col2\" class=\"data row0 col2\" >-0.206711</td>\n",
       "    </tr>\n",
       "    <tr>\n",
       "      <th id=\"T_1399b_level0_row1\" class=\"row_heading level0 row1\" >NChildren</th>\n",
       "      <td id=\"T_1399b_row1_col0\" class=\"data row1 col0\" >0.801809</td>\n",
       "      <td id=\"T_1399b_row1_col1\" class=\"data row1 col1\" >1.000000</td>\n",
       "      <td id=\"T_1399b_row1_col2\" class=\"data row1 col2\" >-0.169157</td>\n",
       "    </tr>\n",
       "    <tr>\n",
       "      <th id=\"T_1399b_level0_row2\" class=\"row_heading level0 row2\" >Response</th>\n",
       "      <td id=\"T_1399b_row2_col0\" class=\"data row2 col0\" >-0.206711</td>\n",
       "      <td id=\"T_1399b_row2_col1\" class=\"data row2 col1\" >-0.169157</td>\n",
       "      <td id=\"T_1399b_row2_col2\" class=\"data row2 col2\" >1.000000</td>\n",
       "    </tr>\n",
       "  </tbody>\n",
       "</table>\n"
      ],
      "text/plain": [
       "<pandas.io.formats.style.Styler at 0x19c986c54c0>"
      ]
     },
     "metadata": {},
     "output_type": "display_data"
    }
   ],
   "source": [
    "Children = ['HasChild', 'NChildren', 'Response']\n",
    "display_correlation(Children)"
   ]
  },
  {
   "cell_type": "markdown",
   "id": "6ed8ad27-3268-444e-aa1f-5dcfd6e10376",
   "metadata": {},
   "source": [
    "The HasChild feature is the furthest from zero, expressing a stronger negative correlation with the Response than the feature NChildren does. Therefore, the feature NChildren will be removed in the code bellow."
   ]
  },
  {
   "cell_type": "code",
   "execution_count": 18,
   "id": "b678b9f6-750a-43c6-a656-e7580a2da0c2",
   "metadata": {},
   "outputs": [],
   "source": [
    "data = data.drop('NChildren', axis = 1)"
   ]
  },
  {
   "cell_type": "markdown",
   "id": "2d25c54e-23eb-4142-91c0-97b7a75e5069",
   "metadata": {},
   "source": [
    "<br>\n",
    "\n",
    "##### **2.2.2** TotalMnt, NWebPurchases and PCatalogPurchases\n",
    "\n",
    "TotalMnt is highly correlated (with correlation value larger than 0.70) with the features NWebPurchases and PCatalogPurchases. Therefore, we can compute the respective matrices to get to know the relevance of each of these features."
   ]
  },
  {
   "cell_type": "code",
   "execution_count": 19,
   "id": "b8285607-1301-415e-9b5e-e996974f26ae",
   "metadata": {},
   "outputs": [
    {
     "data": {
      "text/plain": [
       "'Spearman:'"
      ]
     },
     "metadata": {},
     "output_type": "display_data"
    },
    {
     "data": {
      "text/html": [
       "<style type=\"text/css\">\n",
       "#T_27efc_row0_col0, #T_27efc_row1_col1, #T_27efc_row2_col2, #T_27efc_row3_col3, #T_27efc_row4_col4 {\n",
       "  background-color: #b40426;\n",
       "  color: #f1f1f1;\n",
       "}\n",
       "#T_27efc_row0_col1 {\n",
       "  background-color: #f7b79b;\n",
       "  color: #000000;\n",
       "}\n",
       "#T_27efc_row0_col2 {\n",
       "  background-color: #f2cbb7;\n",
       "  color: #000000;\n",
       "}\n",
       "#T_27efc_row0_col3 {\n",
       "  background-color: #f18f71;\n",
       "  color: #f1f1f1;\n",
       "}\n",
       "#T_27efc_row0_col4 {\n",
       "  background-color: #5977e3;\n",
       "  color: #f1f1f1;\n",
       "}\n",
       "#T_27efc_row1_col0 {\n",
       "  background-color: #f6bea4;\n",
       "  color: #000000;\n",
       "}\n",
       "#T_27efc_row1_col2 {\n",
       "  background-color: #6c8ff1;\n",
       "  color: #f1f1f1;\n",
       "}\n",
       "#T_27efc_row1_col3 {\n",
       "  background-color: #d1dae9;\n",
       "  color: #000000;\n",
       "}\n",
       "#T_27efc_row1_col4 {\n",
       "  background-color: #455cce;\n",
       "  color: #f1f1f1;\n",
       "}\n",
       "#T_27efc_row2_col0 {\n",
       "  background-color: #f3c8b2;\n",
       "  color: #000000;\n",
       "}\n",
       "#T_27efc_row2_col1 {\n",
       "  background-color: #89acfd;\n",
       "  color: #000000;\n",
       "}\n",
       "#T_27efc_row2_col3 {\n",
       "  background-color: #e2dad5;\n",
       "  color: #000000;\n",
       "}\n",
       "#T_27efc_row2_col4 {\n",
       "  background-color: #6384eb;\n",
       "  color: #f1f1f1;\n",
       "}\n",
       "#T_27efc_row3_col0 {\n",
       "  background-color: #f4987a;\n",
       "  color: #000000;\n",
       "}\n",
       "#T_27efc_row3_col1 {\n",
       "  background-color: #cbd8ee;\n",
       "  color: #000000;\n",
       "}\n",
       "#T_27efc_row3_col2 {\n",
       "  background-color: #cfdaea;\n",
       "  color: #000000;\n",
       "}\n",
       "#T_27efc_row3_col4, #T_27efc_row4_col0, #T_27efc_row4_col1, #T_27efc_row4_col2, #T_27efc_row4_col3 {\n",
       "  background-color: #3b4cc0;\n",
       "  color: #f1f1f1;\n",
       "}\n",
       "</style>\n",
       "<table id=\"T_27efc\">\n",
       "  <thead>\n",
       "    <tr>\n",
       "      <th class=\"blank level0\" >&nbsp;</th>\n",
       "      <th id=\"T_27efc_level0_col0\" class=\"col_heading level0 col0\" >TotalMnt</th>\n",
       "      <th id=\"T_27efc_level0_col1\" class=\"col_heading level0 col1\" >NWebPurchases</th>\n",
       "      <th id=\"T_27efc_level0_col2\" class=\"col_heading level0 col2\" >PCatalogPurchases</th>\n",
       "      <th id=\"T_27efc_level0_col3\" class=\"col_heading level0 col3\" >Income</th>\n",
       "      <th id=\"T_27efc_level0_col4\" class=\"col_heading level0 col4\" >Response</th>\n",
       "    </tr>\n",
       "  </thead>\n",
       "  <tbody>\n",
       "    <tr>\n",
       "      <th id=\"T_27efc_level0_row0\" class=\"row_heading level0 row0\" >TotalMnt</th>\n",
       "      <td id=\"T_27efc_row0_col0\" class=\"data row0 col0\" >1.000000</td>\n",
       "      <td id=\"T_27efc_row0_col1\" class=\"data row0 col1\" >0.727244</td>\n",
       "      <td id=\"T_27efc_row0_col2\" class=\"data row0 col2\" >0.701144</td>\n",
       "      <td id=\"T_27efc_row0_col3\" class=\"data row0 col3\" >0.808514</td>\n",
       "      <td id=\"T_27efc_row0_col4\" class=\"data row0 col4\" >0.228446</td>\n",
       "    </tr>\n",
       "    <tr>\n",
       "      <th id=\"T_27efc_level0_row1\" class=\"row_heading level0 row1\" >NWebPurchases</th>\n",
       "      <td id=\"T_27efc_row1_col0\" class=\"data row1 col0\" >0.727244</td>\n",
       "      <td id=\"T_27efc_row1_col1\" class=\"data row1 col1\" >1.000000</td>\n",
       "      <td id=\"T_27efc_row1_col2\" class=\"data row1 col2\" >0.370872</td>\n",
       "      <td id=\"T_27efc_row1_col3\" class=\"data row1 col3\" >0.531787</td>\n",
       "      <td id=\"T_27efc_row1_col4\" class=\"data row1 col4\" >0.171942</td>\n",
       "    </tr>\n",
       "    <tr>\n",
       "      <th id=\"T_27efc_level0_row2\" class=\"row_heading level0 row2\" >PCatalogPurchases</th>\n",
       "      <td id=\"T_27efc_row2_col0\" class=\"data row2 col0\" >0.701144</td>\n",
       "      <td id=\"T_27efc_row2_col1\" class=\"data row2 col1\" >0.370872</td>\n",
       "      <td id=\"T_27efc_row2_col2\" class=\"data row2 col2\" >1.000000</td>\n",
       "      <td id=\"T_27efc_row2_col3\" class=\"data row2 col3\" >0.590410</td>\n",
       "      <td id=\"T_27efc_row2_col4\" class=\"data row2 col4\" >0.253072</td>\n",
       "    </tr>\n",
       "    <tr>\n",
       "      <th id=\"T_27efc_level0_row3\" class=\"row_heading level0 row3\" >Income</th>\n",
       "      <td id=\"T_27efc_row3_col0\" class=\"data row3 col0\" >0.808514</td>\n",
       "      <td id=\"T_27efc_row3_col1\" class=\"data row3 col1\" >0.531787</td>\n",
       "      <td id=\"T_27efc_row3_col2\" class=\"data row3 col2\" >0.590410</td>\n",
       "      <td id=\"T_27efc_row3_col3\" class=\"data row3 col3\" >1.000000</td>\n",
       "      <td id=\"T_27efc_row3_col4\" class=\"data row3 col4\" >0.141282</td>\n",
       "    </tr>\n",
       "    <tr>\n",
       "      <th id=\"T_27efc_level0_row4\" class=\"row_heading level0 row4\" >Response</th>\n",
       "      <td id=\"T_27efc_row4_col0\" class=\"data row4 col0\" >0.228446</td>\n",
       "      <td id=\"T_27efc_row4_col1\" class=\"data row4 col1\" >0.171942</td>\n",
       "      <td id=\"T_27efc_row4_col2\" class=\"data row4 col2\" >0.253072</td>\n",
       "      <td id=\"T_27efc_row4_col3\" class=\"data row4 col3\" >0.141282</td>\n",
       "      <td id=\"T_27efc_row4_col4\" class=\"data row4 col4\" >1.000000</td>\n",
       "    </tr>\n",
       "  </tbody>\n",
       "</table>\n"
      ],
      "text/plain": [
       "<pandas.io.formats.style.Styler at 0x19c986c54c0>"
      ]
     },
     "metadata": {},
     "output_type": "display_data"
    },
    {
     "data": {
      "text/plain": [
       "'---------'"
      ]
     },
     "metadata": {},
     "output_type": "display_data"
    },
    {
     "data": {
      "text/plain": [
       "'Pearson:'"
      ]
     },
     "metadata": {},
     "output_type": "display_data"
    },
    {
     "data": {
      "text/html": [
       "<style type=\"text/css\">\n",
       "#T_c766e_row0_col0, #T_c766e_row1_col1, #T_c766e_row2_col2, #T_c766e_row3_col3, #T_c766e_row4_col4 {\n",
       "  background-color: #b40426;\n",
       "  color: #f1f1f1;\n",
       "}\n",
       "#T_c766e_row0_col1 {\n",
       "  background-color: #cdd9ec;\n",
       "  color: #000000;\n",
       "}\n",
       "#T_c766e_row0_col2 {\n",
       "  background-color: #e6d7cf;\n",
       "  color: #000000;\n",
       "}\n",
       "#T_c766e_row0_col3 {\n",
       "  background-color: #ecd3c5;\n",
       "  color: #000000;\n",
       "}\n",
       "#T_c766e_row0_col4 {\n",
       "  background-color: #7093f3;\n",
       "  color: #f1f1f1;\n",
       "}\n",
       "#T_c766e_row1_col0 {\n",
       "  background-color: #b5cdfa;\n",
       "  color: #000000;\n",
       "}\n",
       "#T_c766e_row1_col2 {\n",
       "  background-color: #3c4ec2;\n",
       "  color: #f1f1f1;\n",
       "}\n",
       "#T_c766e_row1_col3, #T_c766e_row3_col2 {\n",
       "  background-color: #9abbff;\n",
       "  color: #000000;\n",
       "}\n",
       "#T_c766e_row1_col4 {\n",
       "  background-color: #4a63d3;\n",
       "  color: #f1f1f1;\n",
       "}\n",
       "#T_c766e_row2_col0 {\n",
       "  background-color: #e3d9d3;\n",
       "  color: #000000;\n",
       "}\n",
       "#T_c766e_row2_col1 {\n",
       "  background-color: #5b7ae5;\n",
       "  color: #f1f1f1;\n",
       "}\n",
       "#T_c766e_row2_col3 {\n",
       "  background-color: #bed2f6;\n",
       "  color: #000000;\n",
       "}\n",
       "#T_c766e_row2_col4 {\n",
       "  background-color: #688aef;\n",
       "  color: #f1f1f1;\n",
       "}\n",
       "#T_c766e_row3_col0 {\n",
       "  background-color: #d7dce3;\n",
       "  color: #000000;\n",
       "}\n",
       "#T_c766e_row3_col1 {\n",
       "  background-color: #8caffe;\n",
       "  color: #000000;\n",
       "}\n",
       "#T_c766e_row3_col4, #T_c766e_row4_col0, #T_c766e_row4_col1, #T_c766e_row4_col2, #T_c766e_row4_col3 {\n",
       "  background-color: #3b4cc0;\n",
       "  color: #f1f1f1;\n",
       "}\n",
       "</style>\n",
       "<table id=\"T_c766e\">\n",
       "  <thead>\n",
       "    <tr>\n",
       "      <th class=\"blank level0\" >&nbsp;</th>\n",
       "      <th id=\"T_c766e_level0_col0\" class=\"col_heading level0 col0\" >TotalMnt</th>\n",
       "      <th id=\"T_c766e_level0_col1\" class=\"col_heading level0 col1\" >NWebPurchases</th>\n",
       "      <th id=\"T_c766e_level0_col2\" class=\"col_heading level0 col2\" >PCatalogPurchases</th>\n",
       "      <th id=\"T_c766e_level0_col3\" class=\"col_heading level0 col3\" >Income</th>\n",
       "      <th id=\"T_c766e_level0_col4\" class=\"col_heading level0 col4\" >Response</th>\n",
       "    </tr>\n",
       "  </thead>\n",
       "  <tbody>\n",
       "    <tr>\n",
       "      <th id=\"T_c766e_level0_row0\" class=\"row_heading level0 row0\" >TotalMnt</th>\n",
       "      <td id=\"T_c766e_row0_col0\" class=\"data row0 col0\" >1.000000</td>\n",
       "      <td id=\"T_c766e_row0_col1\" class=\"data row0 col1\" >0.531387</td>\n",
       "      <td id=\"T_c766e_row0_col2\" class=\"data row0 col2\" >0.648953</td>\n",
       "      <td id=\"T_c766e_row0_col3\" class=\"data row0 col3\" >0.613749</td>\n",
       "      <td id=\"T_c766e_row0_col4\" class=\"data row0 col4\" >0.262011</td>\n",
       "    </tr>\n",
       "    <tr>\n",
       "      <th id=\"T_c766e_level0_row1\" class=\"row_heading level0 row1\" >NWebPurchases</th>\n",
       "      <td id=\"T_c766e_row1_col0\" class=\"data row1 col0\" >0.531387</td>\n",
       "      <td id=\"T_c766e_row1_col1\" class=\"data row1 col1\" >1.000000</td>\n",
       "      <td id=\"T_c766e_row1_col2\" class=\"data row1 col2\" >0.246742</td>\n",
       "      <td id=\"T_c766e_row1_col3\" class=\"data row1 col3\" >0.365738</td>\n",
       "      <td id=\"T_c766e_row1_col4\" class=\"data row1 col4\" >0.156773</td>\n",
       "    </tr>\n",
       "    <tr>\n",
       "      <th id=\"T_c766e_level0_row2\" class=\"row_heading level0 row2\" >PCatalogPurchases</th>\n",
       "      <td id=\"T_c766e_row2_col0\" class=\"data row2 col0\" >0.648953</td>\n",
       "      <td id=\"T_c766e_row2_col1\" class=\"data row2 col1\" >0.246742</td>\n",
       "      <td id=\"T_c766e_row2_col2\" class=\"data row2 col2\" >1.000000</td>\n",
       "      <td id=\"T_c766e_row2_col3\" class=\"data row2 col3\" >0.458885</td>\n",
       "      <td id=\"T_c766e_row2_col4\" class=\"data row2 col4\" >0.241498</td>\n",
       "    </tr>\n",
       "    <tr>\n",
       "      <th id=\"T_c766e_level0_row3\" class=\"row_heading level0 row3\" >Income</th>\n",
       "      <td id=\"T_c766e_row3_col0\" class=\"data row3 col0\" >0.613749</td>\n",
       "      <td id=\"T_c766e_row3_col1\" class=\"data row3 col1\" >0.365738</td>\n",
       "      <td id=\"T_c766e_row3_col2\" class=\"data row3 col2\" >0.458885</td>\n",
       "      <td id=\"T_c766e_row3_col3\" class=\"data row3 col3\" >1.000000</td>\n",
       "      <td id=\"T_c766e_row3_col4\" class=\"data row3 col4\" >0.110094</td>\n",
       "    </tr>\n",
       "    <tr>\n",
       "      <th id=\"T_c766e_level0_row4\" class=\"row_heading level0 row4\" >Response</th>\n",
       "      <td id=\"T_c766e_row4_col0\" class=\"data row4 col0\" >0.262011</td>\n",
       "      <td id=\"T_c766e_row4_col1\" class=\"data row4 col1\" >0.156773</td>\n",
       "      <td id=\"T_c766e_row4_col2\" class=\"data row4 col2\" >0.241498</td>\n",
       "      <td id=\"T_c766e_row4_col3\" class=\"data row4 col3\" >0.110094</td>\n",
       "      <td id=\"T_c766e_row4_col4\" class=\"data row4 col4\" >1.000000</td>\n",
       "    </tr>\n",
       "  </tbody>\n",
       "</table>\n"
      ],
      "text/plain": [
       "<pandas.io.formats.style.Styler at 0x19c986c5940>"
      ]
     },
     "metadata": {},
     "output_type": "display_data"
    }
   ],
   "source": [
    "total = ['TotalMnt', 'NWebPurchases', 'PCatalogPurchases', 'Income', 'Response']\n",
    "display_correlation(total)"
   ]
  },
  {
   "cell_type": "markdown",
   "id": "a189390a-6452-4e59-8191-fe025e702c56",
   "metadata": {},
   "source": [
    "The values provided by the matrices are not very satisfactory, since Pearson's matrix values are fairly smaller than the ones obtained with the spearman's. According to the values in the pearson's correlation matrix, it is not necessary for any of the features to be removed, due to the non-existence of relevant redundancy. Thus, it is better to do some further exploration of the data, namely by plotting analysing scatterplots between the features of the two pairs. \n",
    "\n"
   ]
  },
  {
   "cell_type": "code",
   "execution_count": 20,
   "id": "647d8ad1-01e3-40cc-8df7-bee57b80fea7",
   "metadata": {},
   "outputs": [
    {
     "data": {
      "text/plain": [
       "<AxesSubplot:xlabel='NWebPurchases', ylabel='TotalMnt'>"
      ]
     },
     "execution_count": 20,
     "metadata": {},
     "output_type": "execute_result"
    },
    {
     "data": {
      "image/png": "[encoded data removed]",
      "text/plain": [
       "<Figure size 600x300 with 1 Axes>"
      ]
     },
     "metadata": {},
     "output_type": "display_data"
    }
   ],
   "source": [
    "data.plot(x=\"NWebPurchases\", y=\"TotalMnt\", kind=\"scatter\", figsize=(6, 3))"
   ]
  },
  {
   "cell_type": "code",
   "execution_count": 21,
   "id": "5442396a-89c8-4ec1-9714-33d40bd1eb00",
   "metadata": {},
   "outputs": [
    {
     "data": {
      "text/plain": [
       "<AxesSubplot:xlabel='PCatalogPurchases', ylabel='TotalMnt'>"
      ]
     },
     "execution_count": 21,
     "metadata": {},
     "output_type": "execute_result"
    },
    {
     "data": {
      "image/png": "[encoded data removed]",
      "text/plain": [
       "<Figure size 600x300 with 1 Axes>"
      ]
     },
     "metadata": {},
     "output_type": "display_data"
    }
   ],
   "source": [
    "data.plot(x=\"PCatalogPurchases\", y=\"TotalMnt\", kind=\"scatter\", figsize=(6, 3))"
   ]
  },
  {
   "cell_type": "code",
   "execution_count": 22,
   "id": "2884cb43-5962-4ec8-89a3-1d449cf3e363",
   "metadata": {},
   "outputs": [
    {
     "data": {
      "text/plain": [
       "<AxesSubplot:xlabel='Income', ylabel='TotalMnt'>"
      ]
     },
     "execution_count": 22,
     "metadata": {},
     "output_type": "execute_result"
    },
    {
     "data": {
      "image/png": "[encoded data removed]",
      "text/plain": [
       "<Figure size 600x300 with 1 Axes>"
      ]
     },
     "metadata": {},
     "output_type": "display_data"
    }
   ],
   "source": [
    "data.plot(x=\"Income\", y=\"TotalMnt\", kind=\"scatter\", figsize=(6, 3))"
   ]
  },
  {
   "cell_type": "markdown",
   "id": "43687f9f-9eb9-4faa-8f36-a1f119b87c42",
   "metadata": {},
   "source": [
    "The first two plotted graphics do not express a significant relation between the features. Hence, those features (the pairs 'TotalMnt and NWebPurchases' and 'TotalMnt and PCatalogPurchases') are not considered to have a relation strong enough to be able to explain each others behaviour and therefore, none of the features will be removed.\n",
    "\n",
    "However, the third graphic is considered to represent a strong correlation between the features TotalMnt and Income. So, given that the Total Mnt has a higher correlation with the Response variable (the target) than the Income does, the Income variable is discarded in the code bellow."
   ]
  },
  {
   "cell_type": "code",
   "execution_count": 23,
   "id": "662f4c24-516f-44b3-8279-39566d419355",
   "metadata": {},
   "outputs": [],
   "source": [
    "data = data.drop('Income', axis = 1)"
   ]
  },
  {
   "cell_type": "markdown",
   "id": "20db027d-1131-47db-9796-7c005262f5b4",
   "metadata": {},
   "source": [
    "<br>\n",
    "\n",
    "##### **2.2.3** MntFishProducts, MntFruits and MntSweetProducts\n",
    "\n",
    "The feature pairs highly correlated, that have to be dealt with, correspond to the 'MntFishProducts and MntFruits' and the 'MntFishProducts and MntSweetProducts'. The matrices that will allow us to acknowledge the importance of each of this features is displayed in the code bellow."
   ]
  },
  {
   "cell_type": "code",
   "execution_count": 24,
   "id": "f6d7b616-cb0a-4e65-8162-d22f6f9d000c",
   "metadata": {},
   "outputs": [
    {
     "data": {
      "text/plain": [
       "'Spearman:'"
      ]
     },
     "metadata": {},
     "output_type": "display_data"
    },
    {
     "data": {
      "text/html": [
       "<style type=\"text/css\">\n",
       "#T_aa1c8_row0_col0, #T_aa1c8_row1_col1, #T_aa1c8_row2_col2, #T_aa1c8_row3_col3 {\n",
       "  background-color: #b40426;\n",
       "  color: #f1f1f1;\n",
       "}\n",
       "#T_aa1c8_row0_col1, #T_aa1c8_row0_col2 {\n",
       "  background-color: #f7ba9f;\n",
       "  color: #000000;\n",
       "}\n",
       "#T_aa1c8_row0_col3, #T_aa1c8_row3_col0, #T_aa1c8_row3_col1, #T_aa1c8_row3_col2 {\n",
       "  background-color: #3b4cc0;\n",
       "  color: #f1f1f1;\n",
       "}\n",
       "#T_aa1c8_row1_col0, #T_aa1c8_row2_col0 {\n",
       "  background-color: #f7b79b;\n",
       "  color: #000000;\n",
       "}\n",
       "#T_aa1c8_row1_col2 {\n",
       "  background-color: #f6bfa6;\n",
       "  color: #000000;\n",
       "}\n",
       "#T_aa1c8_row1_col3 {\n",
       "  background-color: #465ecf;\n",
       "  color: #f1f1f1;\n",
       "}\n",
       "#T_aa1c8_row2_col1 {\n",
       "  background-color: #f5c0a7;\n",
       "  color: #000000;\n",
       "}\n",
       "#T_aa1c8_row2_col3 {\n",
       "  background-color: #4358cb;\n",
       "  color: #f1f1f1;\n",
       "}\n",
       "</style>\n",
       "<table id=\"T_aa1c8\">\n",
       "  <thead>\n",
       "    <tr>\n",
       "      <th class=\"blank level0\" >&nbsp;</th>\n",
       "      <th id=\"T_aa1c8_level0_col0\" class=\"col_heading level0 col0\" >MntFishProducts</th>\n",
       "      <th id=\"T_aa1c8_level0_col1\" class=\"col_heading level0 col1\" >MntFruits</th>\n",
       "      <th id=\"T_aa1c8_level0_col2\" class=\"col_heading level0 col2\" >MntSweetProducts</th>\n",
       "      <th id=\"T_aa1c8_level0_col3\" class=\"col_heading level0 col3\" >Response</th>\n",
       "    </tr>\n",
       "  </thead>\n",
       "  <tbody>\n",
       "    <tr>\n",
       "      <th id=\"T_aa1c8_level0_row0\" class=\"row_heading level0 row0\" >MntFishProducts</th>\n",
       "      <td id=\"T_aa1c8_row0_col0\" class=\"data row0 col0\" >1.000000</td>\n",
       "      <td id=\"T_aa1c8_row0_col1\" class=\"data row0 col1\" >0.708400</td>\n",
       "      <td id=\"T_aa1c8_row0_col2\" class=\"data row0 col2\" >0.706352</td>\n",
       "      <td id=\"T_aa1c8_row0_col3\" class=\"data row0 col3\" >0.115351</td>\n",
       "    </tr>\n",
       "    <tr>\n",
       "      <th id=\"T_aa1c8_level0_row1\" class=\"row_heading level0 row1\" >MntFruits</th>\n",
       "      <td id=\"T_aa1c8_row1_col0\" class=\"data row1 col0\" >0.708400</td>\n",
       "      <td id=\"T_aa1c8_row1_col1\" class=\"data row1 col1\" >1.000000</td>\n",
       "      <td id=\"T_aa1c8_row1_col2\" class=\"data row1 col2\" >0.694267</td>\n",
       "      <td id=\"T_aa1c8_row1_col3\" class=\"data row1 col3\" >0.150309</td>\n",
       "    </tr>\n",
       "    <tr>\n",
       "      <th id=\"T_aa1c8_level0_row2\" class=\"row_heading level0 row2\" >MntSweetProducts</th>\n",
       "      <td id=\"T_aa1c8_row2_col0\" class=\"data row2 col0\" >0.706352</td>\n",
       "      <td id=\"T_aa1c8_row2_col1\" class=\"data row2 col1\" >0.694267</td>\n",
       "      <td id=\"T_aa1c8_row2_col2\" class=\"data row2 col2\" >1.000000</td>\n",
       "      <td id=\"T_aa1c8_row2_col3\" class=\"data row2 col3\" >0.140114</td>\n",
       "    </tr>\n",
       "    <tr>\n",
       "      <th id=\"T_aa1c8_level0_row3\" class=\"row_heading level0 row3\" >Response</th>\n",
       "      <td id=\"T_aa1c8_row3_col0\" class=\"data row3 col0\" >0.115351</td>\n",
       "      <td id=\"T_aa1c8_row3_col1\" class=\"data row3 col1\" >0.150309</td>\n",
       "      <td id=\"T_aa1c8_row3_col2\" class=\"data row3 col2\" >0.140114</td>\n",
       "      <td id=\"T_aa1c8_row3_col3\" class=\"data row3 col3\" >1.000000</td>\n",
       "    </tr>\n",
       "  </tbody>\n",
       "</table>\n"
      ],
      "text/plain": [
       "<pandas.io.formats.style.Styler at 0x19c99090a60>"
      ]
     },
     "metadata": {},
     "output_type": "display_data"
    },
    {
     "data": {
      "text/plain": [
       "'---------'"
      ]
     },
     "metadata": {},
     "output_type": "display_data"
    },
    {
     "data": {
      "text/plain": [
       "'Pearson:'"
      ]
     },
     "metadata": {},
     "output_type": "display_data"
    },
    {
     "data": {
      "text/html": [
       "<style type=\"text/css\">\n",
       "#T_87bdb_row0_col0, #T_87bdb_row1_col1, #T_87bdb_row2_col2, #T_87bdb_row3_col3 {\n",
       "  background-color: #b40426;\n",
       "  color: #f1f1f1;\n",
       "}\n",
       "#T_87bdb_row0_col1, #T_87bdb_row0_col2 {\n",
       "  background-color: #e5d8d1;\n",
       "  color: #000000;\n",
       "}\n",
       "#T_87bdb_row0_col3, #T_87bdb_row3_col0, #T_87bdb_row3_col1, #T_87bdb_row3_col2 {\n",
       "  background-color: #3b4cc0;\n",
       "  color: #f1f1f1;\n",
       "}\n",
       "#T_87bdb_row1_col0 {\n",
       "  background-color: #e8d6cc;\n",
       "  color: #000000;\n",
       "}\n",
       "#T_87bdb_row1_col2 {\n",
       "  background-color: #dedcdb;\n",
       "  color: #000000;\n",
       "}\n",
       "#T_87bdb_row1_col3 {\n",
       "  background-color: #4358cb;\n",
       "  color: #f1f1f1;\n",
       "}\n",
       "#T_87bdb_row2_col0 {\n",
       "  background-color: #e7d7ce;\n",
       "  color: #000000;\n",
       "}\n",
       "#T_87bdb_row2_col1 {\n",
       "  background-color: #dddcdc;\n",
       "  color: #000000;\n",
       "}\n",
       "#T_87bdb_row2_col3 {\n",
       "  background-color: #3f53c6;\n",
       "  color: #f1f1f1;\n",
       "}\n",
       "</style>\n",
       "<table id=\"T_87bdb\">\n",
       "  <thead>\n",
       "    <tr>\n",
       "      <th class=\"blank level0\" >&nbsp;</th>\n",
       "      <th id=\"T_87bdb_level0_col0\" class=\"col_heading level0 col0\" >MntFishProducts</th>\n",
       "      <th id=\"T_87bdb_level0_col1\" class=\"col_heading level0 col1\" >MntFruits</th>\n",
       "      <th id=\"T_87bdb_level0_col2\" class=\"col_heading level0 col2\" >MntSweetProducts</th>\n",
       "      <th id=\"T_87bdb_level0_col3\" class=\"col_heading level0 col3\" >Response</th>\n",
       "    </tr>\n",
       "  </thead>\n",
       "  <tbody>\n",
       "    <tr>\n",
       "      <th id=\"T_87bdb_level0_row0\" class=\"row_heading level0 row0\" >MntFishProducts</th>\n",
       "      <td id=\"T_87bdb_row0_col0\" class=\"data row0 col0\" >1.000000</td>\n",
       "      <td id=\"T_87bdb_row0_col1\" class=\"data row0 col1\" >0.592738</td>\n",
       "      <td id=\"T_87bdb_row0_col2\" class=\"data row0 col2\" >0.588369</td>\n",
       "      <td id=\"T_87bdb_row0_col3\" class=\"data row0 col3\" >0.105339</td>\n",
       "    </tr>\n",
       "    <tr>\n",
       "      <th id=\"T_87bdb_level0_row1\" class=\"row_heading level0 row1\" >MntFruits</th>\n",
       "      <td id=\"T_87bdb_row1_col0\" class=\"data row1 col0\" >0.592738</td>\n",
       "      <td id=\"T_87bdb_row1_col1\" class=\"data row1 col1\" >1.000000</td>\n",
       "      <td id=\"T_87bdb_row1_col2\" class=\"data row1 col2\" >0.566464</td>\n",
       "      <td id=\"T_87bdb_row1_col3\" class=\"data row1 col3\" >0.130971</td>\n",
       "    </tr>\n",
       "    <tr>\n",
       "      <th id=\"T_87bdb_level0_row2\" class=\"row_heading level0 row2\" >MntSweetProducts</th>\n",
       "      <td id=\"T_87bdb_row2_col0\" class=\"data row2 col0\" >0.588369</td>\n",
       "      <td id=\"T_87bdb_row2_col1\" class=\"data row2 col1\" >0.566464</td>\n",
       "      <td id=\"T_87bdb_row2_col2\" class=\"data row2 col2\" >1.000000</td>\n",
       "      <td id=\"T_87bdb_row2_col3\" class=\"data row2 col3\" >0.121273</td>\n",
       "    </tr>\n",
       "    <tr>\n",
       "      <th id=\"T_87bdb_level0_row3\" class=\"row_heading level0 row3\" >Response</th>\n",
       "      <td id=\"T_87bdb_row3_col0\" class=\"data row3 col0\" >0.105339</td>\n",
       "      <td id=\"T_87bdb_row3_col1\" class=\"data row3 col1\" >0.130971</td>\n",
       "      <td id=\"T_87bdb_row3_col2\" class=\"data row3 col2\" >0.121273</td>\n",
       "      <td id=\"T_87bdb_row3_col3\" class=\"data row3 col3\" >1.000000</td>\n",
       "    </tr>\n",
       "  </tbody>\n",
       "</table>\n"
      ],
      "text/plain": [
       "<pandas.io.formats.style.Styler at 0x19c99031f70>"
      ]
     },
     "metadata": {},
     "output_type": "display_data"
    }
   ],
   "source": [
    "FishProducts = ['MntFishProducts', 'MntFruits', 'MntSweetProducts', 'Response']\n",
    "display_correlation(FishProducts)"
   ]
  },
  {
   "cell_type": "code",
   "execution_count": 25,
   "id": "3ec5c8b6-8c11-40c5-a938-a5bc78ac2698",
   "metadata": {},
   "outputs": [
    {
     "data": {
      "text/plain": [
       "<AxesSubplot:xlabel='MntFishProducts', ylabel='MntFruits'>"
      ]
     },
     "execution_count": 25,
     "metadata": {},
     "output_type": "execute_result"
    },
    {
     "data": {
      "image/png": "[encoded data removed]",
      "text/plain": [
       "<Figure size 600x300 with 1 Axes>"
      ]
     },
     "metadata": {},
     "output_type": "display_data"
    }
   ],
   "source": [
    "data.plot(x=\"MntFishProducts\", y=\"MntFruits\", kind=\"scatter\", figsize=(6, 3))"
   ]
  },
  {
   "cell_type": "code",
   "execution_count": 26,
   "id": "97828aab-2c7c-4aef-bddf-d7ccfc5b6cf0",
   "metadata": {},
   "outputs": [
    {
     "data": {
      "text/plain": [
       "<AxesSubplot:xlabel='MntFishProducts', ylabel='MntSweetProducts'>"
      ]
     },
     "execution_count": 26,
     "metadata": {},
     "output_type": "execute_result"
    },
    {
     "data": {
      "image/png": "[encoded data removed]",
      "text/plain": [
       "<Figure size 600x300 with 1 Axes>"
      ]
     },
     "metadata": {},
     "output_type": "display_data"
    }
   ],
   "source": [
    "data.plot(x=\"MntFishProducts\", y=\"MntSweetProducts\", kind=\"scatter\", figsize=(6, 3))"
   ]
  },
  {
   "cell_type": "markdown",
   "id": "d908c1c9-b6b6-42ce-bf31-190cc791e365",
   "metadata": {},
   "source": [
    "The two plotted graphics did not express a significant relation between the features. Thus, those features (the pairs 'MntFishProducts and MntFruits' and 'MntFishProducts and MntSweetProducts') are not considered to have a relation strong enough to be able to explain each others behaviour and therefore, none of the features will be removed."
   ]
  },
  {
   "cell_type": "code",
   "execution_count": 27,
   "id": "fe224fac-8993-4c21-8b9d-e4c7f5d182cd",
   "metadata": {},
   "outputs": [
    {
     "name": "stdout",
     "output_type": "stream",
     "text": [
      "Top most correlated feature pairs:\n",
      " TotalMnt         NStorePurchases      0.812685\n",
      "                 NWebPurchases        0.727244\n",
      "MntFruits        MntFishProducts      0.708400\n",
      "MntFishProducts  MntSweetProducts     0.706352\n",
      "TotalMnt         PCatalogPurchases    0.701144\n",
      "dtype: float64\n"
     ]
    }
   ],
   "source": [
    "# Numerical columns' names of the 'data' dataset stored in the 'numerical_columns' array\n",
    "numerical_columns = data.select_dtypes(include = \"number\").columns\n",
    "# Converting the array 'numerical_columns' into a list\n",
    "numerical_columns = list(numerical_columns)\n",
    "# Removing the element 'Response' from the list\n",
    "numerical_columns.remove('Response')\n",
    "\n",
    "# Computing the correlation matrix, using spearman's coefficient between all the numerical features\n",
    "plcc = data.loc[:, numerical_columns].corr(method=\"spearman\")\n",
    "# Displays the correlation matrix\n",
    "plcc.style.background_gradient(cmap='YlOrRd')\n",
    "\n",
    "# Reshapes the dataframe by converting the data into a stacked form\n",
    "plcc_u = plcc.stack()\n",
    "# Get the upper triangle of the matrix\n",
    "tri_u = np.triu(np.ones(plcc.shape)).astype('bool').reshape(plcc.size)  \n",
    "# Select unique pairs\n",
    "plcc_u = plcc_u[tri_u]  \n",
    "# Removes the low-correlated pairs and the auto-correlations, given a specified threshold\n",
    "l_threshold = 0.7\n",
    "u_threshold = 1\n",
    "plcc_top = plcc_u[(plcc_u.abs() > l_threshold) & (plcc_u.abs() < u_threshold) & (plcc_u!=1.0)]\n",
    "# Prints the output\n",
    "print(\"Top most correlated feature pairs:\\n\", plcc_top.abs().sort_values(ascending=False))"
   ]
  },
  {
   "cell_type": "markdown",
   "id": "ab07c6ef-6c3e-48e5-9dca-cc4e9c97da28",
   "metadata": {},
   "source": [
    "<br>"
   ]
  },
  {
   "cell_type": "markdown",
   "id": "3c33539f-69d9-4741-b679-49c38f13b2bd",
   "metadata": {},
   "source": [
    "### 3. $\\chi ^2$ test for independence"
   ]
  },
  {
   "cell_type": "markdown",
   "id": "d9e78c14-f74a-4dfe-acae-1eafd67d029d",
   "metadata": {
    "id": "gdFTSV7bqY6I"
   },
   "source": [
    "The $\\chi ^2$ test of independence determines whether there is an association between categorical features. If related, the probability of one variable having a certain value is dependent on the value of the other variable. This is done by taking the frequency of each category and distributing it across the categories of the second variable. The test compares the observed frequencies to the frequencies expected if the two variables are unrelated (similar frequencies if unrelated). The hypotheses are defined as follows:\n",
    "-  $H_0$: variables are independent;\n",
    "-  $H_1$: variables are not independent.\n",
    "\n",
    "\n",
    "To determine whether the variables are independent, the p-value is compared in order of the significance level, usually 0.05. A significance level of 0.05 indicates a 5% risk of concluding that there is an association between the variables when there is none.\n",
    "\n",
    "- P-value ≤ 0.05: reject the null hypothesis. There is a statistically significant association between the variables. \n",
    "- P-value > 0.05: accept the alternative hypothesis, meaning that there is not enough evidence to conclude that the variables are associated."
   ]
  },
  {
   "cell_type": "markdown",
   "id": "271bd44a-c455-49fb-b5cd-4d923ae3212b",
   "metadata": {},
   "source": [
    "The $\\chi ^2$ test of independence will be computed manually for the categorical values (Education, MaritalStatus and HasChild)."
   ]
  },
  {
   "cell_type": "markdown",
   "id": "d077917c-2662-45ed-92dc-52fcb51513de",
   "metadata": {},
   "source": [
    "<br>\n",
    "\n",
    "To automatize the calculation of the $\\chi ^2$ for the different features, it is defined the functions ``contigency_table()`` and ``chi_squared()`` in the cells bellow. The first function generates the contingency table for the observed and the expected values, and the second one provides the values of the $\\chi ^2$ and respective p-value.\n",
    "\n",
    "\n",
    "The contigency table for observed and expected values displays actual values (observed values) and the values expected if there was no association between the features (expected values)."
   ]
  },
  {
   "cell_type": "code",
   "execution_count": 28,
   "id": "d68429df-4896-4cd3-ac06-4d5296b3ebf2",
   "metadata": {},
   "outputs": [],
   "source": [
    "def contigency_table(x):\n",
    "    # defining x and y\n",
    "    x, y = x, 'Response'\n",
    "    # Computing the contingency table for observed values\n",
    "    contigency_table_observed = pd.crosstab(data[x], data[y], margins = True)\n",
    "    \n",
    "    # Selects the totals at each row (by selecting the last column, and all the rows exept the last one)\n",
    "    totals_row = contigency_table_observed.iloc[:-1, -1]\n",
    "    # Selects the totals at each column (by selecting the last row, and all the columns exept the last one)\n",
    "    totals_column = contigency_table_observed.iloc[-1, :-1]\n",
    "    # Selects the total \n",
    "    Total = contigency_table_observed.iloc[-1, -1]\n",
    "    \n",
    "    # Computes the expected table by multiplying two matrix, and dividing the result by  𝑁 . \n",
    "    # The function np.matmul() computes the matrix product of two arrays. \n",
    "    # The expected values specify what the values of each cell of the table would be if \n",
    "    # there was no association between the two variables.\n",
    "    counts_expected = np.matmul(totals_row.values[:, None], totals_column.values[None, :], )  # None adds a dimension to an array\n",
    "    # Divides by N\n",
    "    counts_expected = counts_expected/Total\n",
    "    # Copies the observed table and replaces its values \n",
    "    contigency_table_expected = contigency_table_observed.copy()\n",
    "    contigency_table_expected.iloc[:-1, :-1] = counts_expected.astype(int)\n",
    "\n",
    "    # Gets the result, which is the contingency table for the observed and expected values \n",
    "    # (By concatenating the observed contingency table and the expected contingency table)\n",
    "    result = pd.concat({\"Observed\": contigency_table_observed.iloc[:, :-1], \"Expected\": contigency_table_expected}, axis=1)\n",
    "    # Displaying the resulting table\n",
    "    display(\"The observed and expected contingency table:\", result)"
   ]
  },
  {
   "cell_type": "code",
   "execution_count": 29,
   "id": "cd6ae265",
   "metadata": {
    "scrolled": true,
    "tags": []
   },
   "outputs": [],
   "source": [
    "def chi_squared(x):\n",
    "    # defining x and y\n",
    "    x, y = x, 'Response'\n",
    "    # Computing the contingency table for observed values\n",
    "    contigency_table_observed = pd.crosstab(data[x], data[y], margins = True)\n",
    "     \n",
    "    # Performs the test based on the values of the observed contingency table\n",
    "    chi2, p_val, _, _ = chi2_contingency(contigency_table_observed.iloc[:-1, :-1].values)   \n",
    "    # Prints the result\n",
    "    print(\"Chi-squared test statistic: {0:.2f}, p-value: {1:.4f}\".format(chi2, p_val)) "
   ]
  },
  {
   "cell_type": "markdown",
   "id": "05eb5e3a-573d-4506-88de-cecb40f791f3",
   "metadata": {},
   "source": [
    "<br>\n",
    "\n",
    "#### **3.1** Education"
   ]
  },
  {
   "cell_type": "markdown",
   "id": "28310dc4-cf38-4aab-9b3b-093637c9c7fd",
   "metadata": {},
   "source": [
    "To visualize the contigency table for observed and expected values of the Education feature it is used the function ``contigency_table()``."
   ]
  },
  {
   "cell_type": "code",
   "execution_count": 30,
   "id": "e2e77d9c-3869-4405-bb79-cf7050763c8c",
   "metadata": {},
   "outputs": [
    {
     "data": {
      "text/plain": [
       "'The observed and expected contingency table:'"
      ]
     },
     "metadata": {},
     "output_type": "display_data"
    },
    {
     "data": {
      "text/html": [
       "<div>\n",
       "<style scoped>\n",
       "    .dataframe tbody tr th:only-of-type {\n",
       "        vertical-align: middle;\n",
       "    }\n",
       "\n",
       "    .dataframe tbody tr th {\n",
       "        vertical-align: top;\n",
       "    }\n",
       "\n",
       "    .dataframe thead tr th {\n",
       "        text-align: left;\n",
       "    }\n",
       "\n",
       "    .dataframe thead tr:last-of-type th {\n",
       "        text-align: right;\n",
       "    }\n",
       "</style>\n",
       "<table border=\"1\" class=\"dataframe\">\n",
       "  <thead>\n",
       "    <tr>\n",
       "      <th></th>\n",
       "      <th colspan=\"2\" halign=\"left\">Observed</th>\n",
       "      <th colspan=\"3\" halign=\"left\">Expected</th>\n",
       "    </tr>\n",
       "    <tr>\n",
       "      <th>Response</th>\n",
       "      <th>0</th>\n",
       "      <th>1</th>\n",
       "      <th>0</th>\n",
       "      <th>1</th>\n",
       "      <th>All</th>\n",
       "    </tr>\n",
       "    <tr>\n",
       "      <th>Education</th>\n",
       "      <th></th>\n",
       "      <th></th>\n",
       "      <th></th>\n",
       "      <th></th>\n",
       "      <th></th>\n",
       "    </tr>\n",
       "  </thead>\n",
       "  <tbody>\n",
       "    <tr>\n",
       "      <th>2n Cycle</th>\n",
       "      <td>163</td>\n",
       "      <td>22</td>\n",
       "      <td>156</td>\n",
       "      <td>28</td>\n",
       "      <td>185</td>\n",
       "    </tr>\n",
       "    <tr>\n",
       "      <th>Basic</th>\n",
       "      <td>47</td>\n",
       "      <td>2</td>\n",
       "      <td>41</td>\n",
       "      <td>7</td>\n",
       "      <td>49</td>\n",
       "    </tr>\n",
       "    <tr>\n",
       "      <th>Graduation</th>\n",
       "      <td>905</td>\n",
       "      <td>142</td>\n",
       "      <td>888</td>\n",
       "      <td>158</td>\n",
       "      <td>1047</td>\n",
       "    </tr>\n",
       "    <tr>\n",
       "      <th>Master</th>\n",
       "      <td>285</td>\n",
       "      <td>54</td>\n",
       "      <td>287</td>\n",
       "      <td>51</td>\n",
       "      <td>339</td>\n",
       "    </tr>\n",
       "    <tr>\n",
       "      <th>PhD</th>\n",
       "      <td>352</td>\n",
       "      <td>93</td>\n",
       "      <td>377</td>\n",
       "      <td>67</td>\n",
       "      <td>445</td>\n",
       "    </tr>\n",
       "    <tr>\n",
       "      <th>All</th>\n",
       "      <td>1752</td>\n",
       "      <td>313</td>\n",
       "      <td>1752</td>\n",
       "      <td>313</td>\n",
       "      <td>2065</td>\n",
       "    </tr>\n",
       "  </tbody>\n",
       "</table>\n",
       "</div>"
      ],
      "text/plain": [
       "           Observed      Expected           \n",
       "Response          0    1        0    1   All\n",
       "Education                                   \n",
       "2n Cycle        163   22      156   28   185\n",
       "Basic            47    2       41    7    49\n",
       "Graduation      905  142      888  158  1047\n",
       "Master          285   54      287   51   339\n",
       "PhD             352   93      377   67   445\n",
       "All            1752  313     1752  313  2065"
      ]
     },
     "metadata": {},
     "output_type": "display_data"
    }
   ],
   "source": [
    "contigency_table('Education')"
   ]
  },
  {
   "cell_type": "markdown",
   "id": "800958fc-005b-4e1c-8a5f-830420d07d06",
   "metadata": {},
   "source": [
    "To calculate the $\\chi ^2$ of the Education feature it is used the function ``chi_squared()``."
   ]
  },
  {
   "cell_type": "code",
   "execution_count": 31,
   "id": "42993b30-f25d-43e1-8640-d4b2e9b719bf",
   "metadata": {},
   "outputs": [
    {
     "name": "stdout",
     "output_type": "stream",
     "text": [
      "Chi-squared test statistic: 19.84, p-value: 0.0005\n"
     ]
    }
   ],
   "source": [
    "chi_squared('Education')"
   ]
  },
  {
   "cell_type": "markdown",
   "id": "3989ca43-06cb-4805-a1b5-39ddd8f3f38c",
   "metadata": {},
   "source": [
    "In these results, the chi-square statistic is 19.98 and the p-value = 0.0005. Therefore, at a significance level of 0.05, we can reject the null hypothesis and conclude that the association between the variables is statistically significant (the variables are not indepent)."
   ]
  },
  {
   "cell_type": "markdown",
   "id": "0bb25b64-16b6-4cba-8f58-de09614b4738",
   "metadata": {},
   "source": [
    "<br>"
   ]
  },
  {
   "cell_type": "markdown",
   "id": "3bb9c41f-9377-4163-876b-42e086caf2bf",
   "metadata": {},
   "source": [
    "\n",
    "\n",
    "#### **3.2** MaritalStatus"
   ]
  },
  {
   "cell_type": "markdown",
   "id": "6a3d4ef4-8b8c-4a61-9bee-234845484963",
   "metadata": {},
   "source": [
    "To visualize the contigency table for observed and expected values of the MaritalStatus feature it is used the function ``contigency_table()``."
   ]
  },
  {
   "cell_type": "code",
   "execution_count": 32,
   "id": "68bdff76-ec01-4e65-876a-d1fe7b01e982",
   "metadata": {},
   "outputs": [
    {
     "data": {
      "text/plain": [
       "'The observed and expected contingency table:'"
      ]
     },
     "metadata": {},
     "output_type": "display_data"
    },
    {
     "data": {
      "text/html": [
       "<div>\n",
       "<style scoped>\n",
       "    .dataframe tbody tr th:only-of-type {\n",
       "        vertical-align: middle;\n",
       "    }\n",
       "\n",
       "    .dataframe tbody tr th {\n",
       "        vertical-align: top;\n",
       "    }\n",
       "\n",
       "    .dataframe thead tr th {\n",
       "        text-align: left;\n",
       "    }\n",
       "\n",
       "    .dataframe thead tr:last-of-type th {\n",
       "        text-align: right;\n",
       "    }\n",
       "</style>\n",
       "<table border=\"1\" class=\"dataframe\">\n",
       "  <thead>\n",
       "    <tr>\n",
       "      <th></th>\n",
       "      <th colspan=\"2\" halign=\"left\">Observed</th>\n",
       "      <th colspan=\"3\" halign=\"left\">Expected</th>\n",
       "    </tr>\n",
       "    <tr>\n",
       "      <th>Response</th>\n",
       "      <th>0</th>\n",
       "      <th>1</th>\n",
       "      <th>0</th>\n",
       "      <th>1</th>\n",
       "      <th>All</th>\n",
       "    </tr>\n",
       "    <tr>\n",
       "      <th>MaritalStatus</th>\n",
       "      <th></th>\n",
       "      <th></th>\n",
       "      <th></th>\n",
       "      <th></th>\n",
       "      <th></th>\n",
       "    </tr>\n",
       "  </thead>\n",
       "  <tbody>\n",
       "    <tr>\n",
       "      <th>Divorced</th>\n",
       "      <td>173</td>\n",
       "      <td>43</td>\n",
       "      <td>183</td>\n",
       "      <td>32</td>\n",
       "      <td>216</td>\n",
       "    </tr>\n",
       "    <tr>\n",
       "      <th>Married</th>\n",
       "      <td>708</td>\n",
       "      <td>92</td>\n",
       "      <td>678</td>\n",
       "      <td>121</td>\n",
       "      <td>800</td>\n",
       "    </tr>\n",
       "    <tr>\n",
       "      <th>Single</th>\n",
       "      <td>818</td>\n",
       "      <td>159</td>\n",
       "      <td>828</td>\n",
       "      <td>148</td>\n",
       "      <td>977</td>\n",
       "    </tr>\n",
       "    <tr>\n",
       "      <th>Widow</th>\n",
       "      <td>53</td>\n",
       "      <td>19</td>\n",
       "      <td>61</td>\n",
       "      <td>10</td>\n",
       "      <td>72</td>\n",
       "    </tr>\n",
       "    <tr>\n",
       "      <th>All</th>\n",
       "      <td>1752</td>\n",
       "      <td>313</td>\n",
       "      <td>1752</td>\n",
       "      <td>313</td>\n",
       "      <td>2065</td>\n",
       "    </tr>\n",
       "  </tbody>\n",
       "</table>\n",
       "</div>"
      ],
      "text/plain": [
       "              Observed      Expected           \n",
       "Response             0    1        0    1   All\n",
       "MaritalStatus                                  \n",
       "Divorced           173   43      183   32   216\n",
       "Married            708   92      678  121   800\n",
       "Single             818  159      828  148   977\n",
       "Widow               53   19       61   10    72\n",
       "All               1752  313     1752  313  2065"
      ]
     },
     "metadata": {},
     "output_type": "display_data"
    }
   ],
   "source": [
    "contigency_table('MaritalStatus')"
   ]
  },
  {
   "cell_type": "markdown",
   "id": "83dafb86-25b0-42d6-b948-877d9866e043",
   "metadata": {},
   "source": [
    "<br>"
   ]
  },
  {
   "cell_type": "markdown",
   "id": "c92ad590-3d70-4159-92f5-69b87d7b4466",
   "metadata": {},
   "source": [
    "To calculate the $\\chi ^2$ of the Education feature it is used the function ``chi_squared()``."
   ]
  },
  {
   "cell_type": "code",
   "execution_count": 33,
   "id": "d5728b85-b523-4f58-b555-a7fc82ba932f",
   "metadata": {},
   "outputs": [
    {
     "name": "stdout",
     "output_type": "stream",
     "text": [
      "Chi-squared test statistic: 20.12, p-value: 0.0002\n"
     ]
    }
   ],
   "source": [
    "chi_squared('MaritalStatus')"
   ]
  },
  {
   "cell_type": "markdown",
   "id": "337295d3-0e10-4e34-acfb-6c80602f9831",
   "metadata": {},
   "source": [
    "The Chi-squared statistic is 52.46 and the p-value is 0.0000. Thus, with a p-value less than 0.05 we can reject the null hypothesis and conclude that the variable is associated to the taget (Response)."
   ]
  },
  {
   "cell_type": "markdown",
   "id": "c7c18bc2-2e33-41ec-b1e7-b45678e6937c",
   "metadata": {},
   "source": [
    "<br>\n",
    "\n",
    "#### **3.3** HasChild\n",
    "\n",
    "To visualize the contigency table for observed and expected values of the HasChild feature it is used the function ``contigency_table()``."
   ]
  },
  {
   "cell_type": "code",
   "execution_count": 34,
   "id": "5f2e2cc4-a222-4169-b70b-29ff482f76df",
   "metadata": {},
   "outputs": [
    {
     "data": {
      "text/plain": [
       "'The observed and expected contingency table:'"
      ]
     },
     "metadata": {},
     "output_type": "display_data"
    },
    {
     "data": {
      "text/html": [
       "<div>\n",
       "<style scoped>\n",
       "    .dataframe tbody tr th:only-of-type {\n",
       "        vertical-align: middle;\n",
       "    }\n",
       "\n",
       "    .dataframe tbody tr th {\n",
       "        vertical-align: top;\n",
       "    }\n",
       "\n",
       "    .dataframe thead tr th {\n",
       "        text-align: left;\n",
       "    }\n",
       "\n",
       "    .dataframe thead tr:last-of-type th {\n",
       "        text-align: right;\n",
       "    }\n",
       "</style>\n",
       "<table border=\"1\" class=\"dataframe\">\n",
       "  <thead>\n",
       "    <tr>\n",
       "      <th></th>\n",
       "      <th colspan=\"2\" halign=\"left\">Observed</th>\n",
       "      <th colspan=\"3\" halign=\"left\">Expected</th>\n",
       "    </tr>\n",
       "    <tr>\n",
       "      <th>Response</th>\n",
       "      <th>0</th>\n",
       "      <th>1</th>\n",
       "      <th>0</th>\n",
       "      <th>1</th>\n",
       "      <th>All</th>\n",
       "    </tr>\n",
       "    <tr>\n",
       "      <th>HasChild</th>\n",
       "      <th></th>\n",
       "      <th></th>\n",
       "      <th></th>\n",
       "      <th></th>\n",
       "      <th></th>\n",
       "    </tr>\n",
       "  </thead>\n",
       "  <tbody>\n",
       "    <tr>\n",
       "      <th>0</th>\n",
       "      <td>442</td>\n",
       "      <td>161</td>\n",
       "      <td>511</td>\n",
       "      <td>91</td>\n",
       "      <td>603</td>\n",
       "    </tr>\n",
       "    <tr>\n",
       "      <th>1</th>\n",
       "      <td>1310</td>\n",
       "      <td>152</td>\n",
       "      <td>1240</td>\n",
       "      <td>221</td>\n",
       "      <td>1462</td>\n",
       "    </tr>\n",
       "    <tr>\n",
       "      <th>All</th>\n",
       "      <td>1752</td>\n",
       "      <td>313</td>\n",
       "      <td>1752</td>\n",
       "      <td>313</td>\n",
       "      <td>2065</td>\n",
       "    </tr>\n",
       "  </tbody>\n",
       "</table>\n",
       "</div>"
      ],
      "text/plain": [
       "         Observed      Expected           \n",
       "Response        0    1        0    1   All\n",
       "HasChild                                  \n",
       "0             442  161      511   91   603\n",
       "1            1310  152     1240  221  1462\n",
       "All          1752  313     1752  313  2065"
      ]
     },
     "metadata": {},
     "output_type": "display_data"
    }
   ],
   "source": [
    "contigency_table('HasChild')"
   ]
  },
  {
   "cell_type": "markdown",
   "id": "7a62b0be-18c4-4502-a38e-fbcd735d8d8f",
   "metadata": {},
   "source": [
    "To calculate the $\\chi ^2$ of the MaritalStatus feature it is used the function ``chi_squared()``."
   ]
  },
  {
   "cell_type": "code",
   "execution_count": 35,
   "id": "3f151b5d-15a3-410c-8917-8954856ae414",
   "metadata": {},
   "outputs": [
    {
     "name": "stdout",
     "output_type": "stream",
     "text": [
      "Chi-squared test statistic: 86.97, p-value: 0.0000\n"
     ]
    }
   ],
   "source": [
    "chi_squared('HasChild')"
   ]
  },
  {
   "cell_type": "markdown",
   "id": "d8554590-0099-4375-83c6-c8aaa9ecbf24",
   "metadata": {},
   "source": [
    "The Chi-squared test statistic is 87.19 and the p-value is 0.0000 (less than 0.05), so we can conclude that there is association between HasChild and Response.\n",
    "\n",
    "<br>\n",
    "<br>"
   ]
  },
  {
   "cell_type": "markdown",
   "id": "dafbd75d-20c5-4bb9-a0b1-fa79e97b77a9",
   "metadata": {},
   "source": [
    "### 4. Kernel density estimation\n",
    "\n",
    "A kernel density estimate plot is a method for visualizing the distribution of observations in a dataset. This method represents the data using a continuous probability density curve.\n",
    "\n",
    "To generate this type of graphic it is created two functions : the ``kernel_density_estimation()`` and the ``kernel_density_estimation_matrix()``.\n",
    "\n",
    "The ``kernel_density_estimation()`` function generates a single kernel density estimate plot."
   ]
  },
  {
   "cell_type": "code",
   "execution_count": 36,
   "id": "3cba3e2c-970d-4489-a0aa-8f35027a2814",
   "metadata": {},
   "outputs": [],
   "source": [
    "# It has as a parameter the feature that will associate with the target\n",
    "def kernel_density_estimation(x):\n",
    "    # Define the features\n",
    "    x, target = x, \"Response\"\n",
    "    # Create the graphic\n",
    "    plt.figure(figsize=(3, 2.5))  # (width, height)\n",
    "    sns.kdeplot(data=data, x=x, hue=target, multiple=\"stack\", palette=my_palette)\n",
    "    "
   ]
  },
  {
   "cell_type": "markdown",
   "id": "324bca1d-a0b8-4f5c-bd1a-b892333e25da",
   "metadata": {},
   "source": [
    "The ``kernel_density_estimation_matrix()`` function generates multiple kernel density estimate plots in a matrix with a given amount of rows and columns. This function has three parameters : the list of features it is going to associate with the target, the number of rows and the number of columns of the matrix in which the plots will be displayed."
   ]
  },
  {
   "cell_type": "code",
   "execution_count": 37,
   "id": "42d24352-f6bc-44dd-9bfe-3947cf4dffa6",
   "metadata": {},
   "outputs": [],
   "source": [
    "def kernel_density_estimation_matrix(features_list, n_rows, n_columns):\n",
    "    # Figure parameters\n",
    "    fig, ax = plt.subplots(n_rows, n_columns, sharex=True, sharey=False, figsize=(6, 4))\n",
    "    plt.subplots_adjust(wspace=0.4, hspace=0.1)\n",
    "    # Features to plot\n",
    "    x, target = features_list, \"Response\"\n",
    "    # Create figure\n",
    "    ir, ic = 0, 0\n",
    "    for i, xi in enumerate(x):\n",
    "        sns.kdeplot(data=data, x=xi, hue=target, multiple=\"stack\", palette=my_palette, ax=ax[ir, ic])\n",
    "        ic+=1\n",
    "        if ic%n_columns==0:\n",
    "            ic = 0\n",
    "            ir += 1"
   ]
  },
  {
   "cell_type": "markdown",
   "id": "dec6d7de-0a74-42a3-8aee-be279e24401a",
   "metadata": {},
   "source": [
    "<br>\n",
    "\n",
    "#### **4.1** TotalMnt\n",
    "\n",
    "To understand the distribution of the target values whithin the TotalMnt, we can plot the kernel density estimate, using the function ``kernel_density_estimation()``."
   ]
  },
  {
   "cell_type": "code",
   "execution_count": 38,
   "id": "109c6f6b-657a-4f9e-a4e3-a293a2054aed",
   "metadata": {},
   "outputs": [
    {
     "data": {
      "image/png": "[encoded data removed]",
      "text/plain": [
       "<Figure size 300x250 with 1 Axes>"
      ]
     },
     "metadata": {},
     "output_type": "display_data"
    }
   ],
   "source": [
    "kernel_density_estimation('TotalMnt')"
   ]
  },
  {
   "cell_type": "markdown",
   "id": "15f219a1-8fc5-4781-897b-a446fcdf4f8b",
   "metadata": {},
   "source": [
    "With this representation of the TotalMnt and Response, it is observed that most of the individuals that do not accept the campaign have the least total amount of money spent. It is also observed that the individuals that accept the campaign are associated to the whole range of amount of money spent."
   ]
  },
  {
   "cell_type": "markdown",
   "id": "54e5a2a4-8634-4b0e-b239-e774cc290df1",
   "metadata": {},
   "source": [
    "<br>\n",
    "\n",
    "#### **4.2** HasChild\n",
    "\n",
    "To understand the distribution of the target values whithin the HasChild, we can plot the kernel density estimate, using the function ``kernel_density_estimation()``."
   ]
  },
  {
   "cell_type": "code",
   "execution_count": 39,
   "id": "169c3ca6-4f4c-469b-8f21-55dba2782b41",
   "metadata": {},
   "outputs": [
    {
     "data": {
      "image/png": "[encoded data removed]",
      "text/plain": [
       "<Figure size 300x250 with 1 Axes>"
      ]
     },
     "metadata": {},
     "output_type": "display_data"
    }
   ],
   "source": [
    "kernel_density_estimation('HasChild')"
   ]
  },
  {
   "cell_type": "markdown",
   "id": "3594b2b4-7357-4f3b-ad18-0a7f3ef8b566",
   "metadata": {},
   "source": [
    "It is noticeable in the plot above that most of the individuals that do not accept the campaign have children. However, the density of the individuals that accept the campaign is similar for those who have children and for those who do not."
   ]
  },
  {
   "cell_type": "markdown",
   "id": "d8b400ba-56cd-403b-a5c2-02209819da81",
   "metadata": {},
   "source": [
    "<br>\n",
    "\n",
    "#### **4.3** Mnt features\n",
    "\n",
    "To understand the distribution of the target values whithin the Mnt features, we can plot the kernel density estimate, using the function ``kernel_density_estimation_matrix()``."
   ]
  },
  {
   "cell_type": "code",
   "execution_count": 40,
   "id": "b9ec20b1-dde1-4e2f-a42d-399cf9a62e5e",
   "metadata": {},
   "outputs": [
    {
     "data": {
      "image/png": "[encoded data removed]",
      "text/plain": [
       "<Figure size 600x400 with 4 Axes>"
      ]
     },
     "metadata": {},
     "output_type": "display_data"
    }
   ],
   "source": [
    "kernel_density_estimation_matrix(['MntFruits', 'MntFishProducts', 'MntSweetProducts', 'MntGoldProds'], 2, 2)"
   ]
  },
  {
   "cell_type": "markdown",
   "id": "d28e32e2-566c-4e76-8f59-5594617bbdfe",
   "metadata": {},
   "source": [
    "In the plots above, it is observable that all the considered features (Mnt ones) have a similar distribution of the Response values throughout its range. The campaign is primarly not accepted when the amount of money spent in the products considered is low, but is also the most accepted within that values. "
   ]
  },
  {
   "cell_type": "markdown",
   "id": "c4ddbb5f-9e83-49d5-aae7-dd3a399b6569",
   "metadata": {},
   "source": [
    "<br>\n",
    "\n",
    "#### **4.4** Previous Responses"
   ]
  },
  {
   "cell_type": "markdown",
   "id": "17aa544a-410e-4051-b6ed-ac025d1f4804",
   "metadata": {},
   "source": [
    "To understand the distribution of the target values whithin the previous Responses, we can plot the kernel density estimate, using the function ``kernel_density_estimation_matrix()``."
   ]
  },
  {
   "cell_type": "code",
   "execution_count": 41,
   "id": "7734b3d8-4f4e-4b64-ad0c-cecffba61640",
   "metadata": {},
   "outputs": [
    {
     "data": {
      "image/png": "[encoded data removed]",
      "text/plain": [
       "<Figure size 600x400 with 6 Axes>"
      ]
     },
     "metadata": {},
     "output_type": "display_data"
    }
   ],
   "source": [
    "kernel_density_estimation_matrix(['Response1', 'Response2', 'Response3', 'Response4', 'Response5'], 2, 3)"
   ]
  },
  {
   "cell_type": "markdown",
   "id": "97a4dc1d-2941-4ab9-9c55-4079e5ba6fc1",
   "metadata": {},
   "source": [
    "In the kernel density estimation matrix above, we can see that:\n",
    "* When the value of the previous responses is 0 (the individuals did not accept previous campaigns), most of the current responses are also 0 (those individuals also didn't accept the current campaign). However, it is possible to observe that some of the cases where the previous responses are 0, the current response is 1. \n",
    "* When the value of the previous responses is 1 (the individuals accepted previous campaigns), the proportion of the density in comparison to the 0 is so different, that it is only seen some amount of the current responses being 0. \n",
    "* The current campaign being 1 (the individuals accepted the current campaign) can only be seen when the previous responses are 0. Therefore, all the previous responses can estimate the individuals that will reject the campaign for the current one significantly well, whereas for the ones that accept, which are more important, it does not have a good estimation.\n",
    "\n",
    "Thus, this features are considered not to express much importance for the model, and are removed in the code bellow."
   ]
  },
  {
   "cell_type": "code",
   "execution_count": 42,
   "id": "5eb56ede-1b28-4376-8000-f40856d1be66",
   "metadata": {},
   "outputs": [],
   "source": [
    "data = data.drop(['Response1', 'Response2', 'Response3', 'Response4', 'Response5'], axis = 1)"
   ]
  },
  {
   "cell_type": "markdown",
   "id": "226acfca-326d-4ffd-a471-996cdb4b512e",
   "metadata": {},
   "source": [
    "<br><br>\n",
    "\n",
    "\n",
    "#### **5.** Brief Overview of the discarded columns\n",
    "\n",
    "In this stage, it was studied the individual discrimination that each featured presented. Thus, there were some features that were removed from the dataset due to their lack of relevance to the model. In total, fiveteen columns were removed, namely:\n",
    "* Age;\n",
    "* NWebVisitsMonth;\n",
    "* NDealsPurchases;\n",
    "* PMntGoldProds;\n",
    "* MntWines;\n",
    "* MntMeatProducts;\n",
    "* NCatalogPurchases;\n",
    "* TotalPurchases;\n",
    "* Income\n",
    "* NChildren;\n",
    "* Response1;\n",
    "* Response2;\n",
    "* Response3;\n",
    "* Response4;\n",
    "* Response5;\n"
   ]
  },
  {
   "cell_type": "markdown",
   "id": "f94c8721-9781-43f9-8540-92767771725e",
   "metadata": {},
   "source": [
    "<br>\n",
    "<br>"
   ]
  },
  {
   "cell_type": "markdown",
   "id": "4c44b72a-1f40-47d1-928f-113a2c30688c",
   "metadata": {},
   "source": [
    "### **6.** Exporting the dataset"
   ]
  },
  {
   "cell_type": "markdown",
   "id": "3853259c-7299-4350-a392-00c1bf2499f5",
   "metadata": {},
   "source": [
    "In order to use this modified dataset in different notebooks, it is necessary to export it. \n",
    "The dataset is being exported in an excel format with the name \"after_explore1.xlsx\". "
   ]
  },
  {
   "cell_type": "code",
   "execution_count": 43,
   "id": "b9e57392-7764-422d-8820-8cd9cc2cb578",
   "metadata": {},
   "outputs": [],
   "source": [
    "data.to_excel(\"after_explore1.xlsx\")"
   ]
  }
 ],
 "metadata": {
  "kernelspec": {
   "display_name": "Python 3 (ipykernel)",
   "language": "python",
   "name": "python3"
  },
  "language_info": {
   "codemirror_mode": {
    "name": "ipython",
    "version": 3
   },
   "file_extension": ".py",
   "mimetype": "text/x-python",
   "name": "python",
   "nbconvert_exporter": "python",
   "pygments_lexer": "ipython3",
   "version": "3.9.13"
  }
 },
 "nbformat": 4,
 "nbformat_minor": 5
}
